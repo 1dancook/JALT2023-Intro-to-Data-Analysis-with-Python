{
 "cells": [
  {
   "cell_type": "markdown",
   "id": "dfa15ee3-3d27-4d7c-a658-925b40793e86",
   "metadata": {
    "slideshow": {
     "slide_type": "slide"
    },
    "tags": []
   },
   "source": [
    "# An Introduction to Data Analysis with Python\n",
    "\n",
    "```\n",
    "Prepared for Participants of JALT 2023\n",
    "\n",
    "Chris Pirotto\n",
    "Senior Lecturer, Fukui University of Technology\n",
    "chris.pirotto@gmail.com\n",
    "\n",
    "Daniel Cook\n",
    "Assistant Professor of Foreign Language, Fukui University of Technology\n",
    "cook.r.dan@gmail.com\n",
    "```"
   ]
  },
  {
   "cell_type": "markdown",
   "id": "1639a052-d38d-464f-a58a-6dabca3a8c32",
   "metadata": {
    "slideshow": {
     "slide_type": "subslide"
    },
    "tags": []
   },
   "source": [
    "![](screenshots/spss.png)"
   ]
  },
  {
   "cell_type": "markdown",
   "id": "04f07646-3a4a-4892-b243-7ec539144213",
   "metadata": {
    "slideshow": {
     "slide_type": "subslide"
    },
    "tags": []
   },
   "source": [
    "![](screenshots/r-data.png)"
   ]
  },
  {
   "cell_type": "markdown",
   "id": "e7acec7a-5614-4333-8be7-7fe796fc9f1d",
   "metadata": {
    "slideshow": {
     "slide_type": "subslide"
    },
    "tags": []
   },
   "source": [
    "![](screenshots/r.png)"
   ]
  },
  {
   "cell_type": "markdown",
   "id": "7b99f6e8-f74f-4cbf-b121-78ec31d51440",
   "metadata": {
    "slideshow": {
     "slide_type": "subslide"
    },
    "tags": []
   },
   "source": [
    "![](screenshots/python-data.png)"
   ]
  },
  {
   "cell_type": "markdown",
   "id": "a439c492-218d-490b-a228-e6ff9272904c",
   "metadata": {
    "slideshow": {
     "slide_type": "subslide"
    },
    "tags": []
   },
   "source": [
    "![](screenshots/python.png)"
   ]
  },
  {
   "cell_type": "markdown",
   "id": "99d16e8b-c6ce-4bd9-8d5f-ad8ac16db3f3",
   "metadata": {
    "slideshow": {
     "slide_type": "skip"
    },
    "tags": []
   },
   "source": [
    "<!-- toc -->"
   ]
  },
  {
   "cell_type": "markdown",
   "id": "aea047bf-53c8-4fdc-8a2b-b071e11d93fe",
   "metadata": {
    "slideshow": {
     "slide_type": "skip"
    },
    "tags": []
   },
   "source": [
    "# Introduction"
   ]
  },
  {
   "cell_type": "markdown",
   "id": "df233877-3534-427a-adf3-869864fedc0b",
   "metadata": {
    "slideshow": {
     "slide_type": "skip"
    },
    "tags": []
   },
   "source": [
    "This Jupyter Notebook has been written and designed to introduce researchers in the field of TESOL to powerful tools that can be used for data analysis.\n",
    "\n",
    "In order to introduce these tools and what they are capable of, we give a walkthrough of a research project that should be familiar to the audience. We hope this provides less friction involved with understanding the tools introduced.\n",
    "\n",
    "The Notebook is meant to be read from top-to-bottom. We will first introduce you to common tools used in data analysis, then walk through a typical workflow of importing data, inspecting it, cleaning it, and finally analyzing it.\n",
    "\n",
    "We understand that you may not have experience with programming - that is okay! Python is quite an intuitive programming language. We have try to provide examples that are fairly simple and also show some intermediate uses here and there. In some cases complex parts are broken down into a series of small steps.\n",
    "\n",
    "Enjoy and happy coding!"
   ]
  },
  {
   "cell_type": "markdown",
   "id": "ddd4f6a6-a802-4310-bc8d-a6136fda04fd",
   "metadata": {
    "slideshow": {
     "slide_type": "slide"
    },
    "tags": []
   },
   "source": [
    "# Tools for Data Analysis\n",
    "\n",
    "The tools that we will use are Python, pandas, and Jupyter notebooks. The following is a very brief introduction to each of these."
   ]
  },
  {
   "cell_type": "markdown",
   "id": "8354cee5-83ee-4802-b914-367d98c4fe4e",
   "metadata": {
    "slideshow": {
     "slide_type": "subslide"
    },
    "tags": []
   },
   "source": [
    "## A *very* short introduction to Python"
   ]
  },
  {
   "cell_type": "markdown",
   "id": "be0a4cee-21ce-4ef4-b45d-46db67cf891a",
   "metadata": {
    "slideshow": {
     "slide_type": "skip"
    },
    "tags": []
   },
   "source": [
    "Python is a high-level, versatile, and easy-to-read programming language. It's known for its simplicity and readability, making it a popular choice for beginners and experienced developers alike. \n",
    "\n",
    "There are many programming languages and some have very special use cases. Keep in mind that a programming language is only an interface between you (the programmar) and the computer.\n",
    "\n",
    "Essentially, with any programming language, we are telling the computer what to do.\n",
    "\n",
    "The following is a simple code snipper. It has a comment that is essentially ignored by the computer, and a statement that would be executed. This tells the computer to print \"Hello, World\" to the screen."
   ]
  },
  {
   "cell_type": "code",
   "execution_count": 1,
   "id": "36aef1f1-fc06-43fe-b604-408f167eaf11",
   "metadata": {
    "slideshow": {
     "slide_type": "fragment"
    },
    "tags": []
   },
   "outputs": [
    {
     "name": "stdout",
     "output_type": "stream",
     "text": [
      "Hello, World!\n"
     ]
    }
   ],
   "source": [
    "# Comments start with a hash\n",
    "print(f\"Hello, World!\")"
   ]
  },
  {
   "cell_type": "markdown",
   "id": "34e6bd04-de4d-445a-a98c-02d7d3203574",
   "metadata": {
    "jp-MarkdownHeadingCollapsed": true,
    "slideshow": {
     "slide_type": "skip"
    },
    "tags": []
   },
   "source": [
    "### Why use Python for Data Analysis?\n",
    "\n",
    "There are a great number of software tools for data analysis with a number of similarities between them. We're not advocating one tool over another, but simply want to say that **it's best to use the tool that suites your needs**. That being said, wouldn't it be interesting if you could make your own tools? Utilizing a programming language gives you the opportunity to do just that.\n",
    "\n",
    "Here are some other reasons we think using Python is great:\n",
    "\n",
    "- open source and free\n",
    "- compared to other programming languages it's easier to learn\n",
    "- widely used in the fields of data science (another noteable choice is `R`)\n",
    "- your process can be documented and repeatable from start to finish\n",
    "- great ecosystem of tools and libraries\n",
    "- a skill to add to your resume\n",
    "- code and results are testable (See **Appendix 2**)\n",
    "- code projects are easily scalable\n",
    "- you can apply programming skills to *many*, *many* other things"
   ]
  },
  {
   "cell_type": "markdown",
   "id": "baa8f510-346a-40f5-a849-0d31782e7717",
   "metadata": {
    "slideshow": {
     "slide_type": "subslide"
    },
    "tags": []
   },
   "source": [
    "## A *very* short introduction to Pandas"
   ]
  },
  {
   "cell_type": "markdown",
   "id": "7d5d340a-86e3-4942-957f-351eccfd49af",
   "metadata": {
    "jp-MarkdownHeadingCollapsed": true,
    "slideshow": {
     "slide_type": "skip"
    },
    "tags": []
   },
   "source": [
    "Pandas is a popular *Python library* for data manipulation and analysis. It provides easy-to-use data structures and functions to work with structured data, such as tables and spreadsheets. Pandas simplifies tasks like data cleaning, filtering, and statistical analysis, making it a cornerstone of data science and analysis in Python."
   ]
  },
  {
   "cell_type": "markdown",
   "id": "ca870f1b-24f9-41c1-90d4-537c3df42606",
   "metadata": {
    "jp-MarkdownHeadingCollapsed": true,
    "slideshow": {
     "slide_type": "skip"
    },
    "tags": []
   },
   "source": [
    "If you have experienced using a spreadsheet, you will know that it is a table that holds data. Pandas uses a similar structure to hold data, and it is called a `DataFrame`. Dataframes have a number of attributes and methods that are at the core of using the library."
   ]
  },
  {
   "cell_type": "markdown",
   "id": "db9dbb38-0e04-44c5-945f-19c11743f399",
   "metadata": {
    "jp-MarkdownHeadingCollapsed": true,
    "slideshow": {
     "slide_type": "skip"
    },
    "tags": []
   },
   "source": [
    "Pandas is a popular *Python library* for data manipulation and analysis. It provides easy-to-use data structures and functions to work with structured data, such as tables and spreadsheets. Pandas simplifies tasks like data cleaning, filtering, and statistical analysis, making it a cornerstone of data science and analysis in Python."
   ]
  },
  {
   "cell_type": "markdown",
   "id": "71250a09-67b6-4d29-9872-2ad9c3cd1a7d",
   "metadata": {
    "jp-MarkdownHeadingCollapsed": true,
    "slideshow": {
     "slide_type": "skip"
    },
    "tags": []
   },
   "source": [
    "If you have experienced using a spreadsheet, you will know that it is a table that holds data. Pandas uses a similar structure to hold data, and it is called a `DataFrame`. Dataframes have a number of attributes and methods that are at the core of using the library."
   ]
  },
  {
   "cell_type": "markdown",
   "id": "aff64f7a-08a5-4dc9-904a-d8e8a33ee03d",
   "metadata": {
    "jp-MarkdownHeadingCollapsed": true,
    "slideshow": {
     "slide_type": "fragment"
    },
    "tags": []
   },
   "source": [
    "![An Example DataFrame](assets/example_dataframe.svg)"
   ]
  },
  {
   "cell_type": "markdown",
   "id": "d5ce1134-9708-4b99-a882-501d941f5d3e",
   "metadata": {
    "slideshow": {
     "slide_type": "skip"
    },
    "tags": []
   },
   "source": [
    "Another important data structure that Pandas uses is called a `Series`. You could think of it as a single column with an index."
   ]
  },
  {
   "cell_type": "markdown",
   "id": "0500dac7-add7-4463-96c2-09df935ea8d4",
   "metadata": {
    "slideshow": {
     "slide_type": "subslide"
    },
    "tags": []
   },
   "source": [
    "![A Pandas Series](assets/example_series.svg)"
   ]
  },
  {
   "cell_type": "markdown",
   "id": "ddf88020-6b19-42e9-817d-1a6cf49bf1ed",
   "metadata": {
    "slideshow": {
     "slide_type": "subslide"
    },
    "tags": []
   },
   "source": [
    "## A *very* short introduction to Jupyter Notebooks\n",
    "\n",
    "![jupyterlab](assets/jupyterlab.png)\n",
    "\n",
    "*Picture Credit: jupyter.org*"
   ]
  },
  {
   "cell_type": "markdown",
   "id": "669ab788-c164-487b-a4a8-6381e9a017d7",
   "metadata": {
    "jp-MarkdownHeadingCollapsed": true,
    "slideshow": {
     "slide_type": "skip"
    },
    "tags": []
   },
   "source": [
    "Python and Pandas can be used in a number of contexts like scripts, but for the purpose of data analysis, someone created this wonderful tool called Jupyter Notebooks."
   ]
  },
  {
   "cell_type": "markdown",
   "id": "f265793c-5b3a-4ba8-80e8-169cd26ebfd0",
   "metadata": {
    "slideshow": {
     "slide_type": "skip"
    },
    "tags": []
   },
   "source": [
    "What is a notebook? From the [Jupyter documentation](https://docs.jupyter.org/en/latest/):\n",
    "\n",
    "> A notebook is a shareable document that combines computer code, plain language descriptions, data, rich visualizations like 3D models, charts, graphs and figures, and interactive controls. A notebook, along with an editor (like JupyterLab), provides a fast interactive environment for prototyping and explaining code, exploring and visualizing data, and sharing ideas with others."
   ]
  },
  {
   "cell_type": "markdown",
   "id": "b0fd0e20-e09b-4700-b294-0c1ce91a2e0d",
   "metadata": {
    "jp-MarkdownHeadingCollapsed": true,
    "slideshow": {
     "slide_type": "skip"
    },
    "tags": []
   },
   "source": [
    "With notebooks you break your work into cells. A cell can contain code, Markdown, or raw text. Users can run code cells to see immediate results, making it an ideal tool for experimenting, documenting, and presenting data analysis and research in a collaborative and reproducible way.\n",
    "\n",
    "Each cell takes input, and then depending on the contents, produces output. Since you can see immediate results, it is an ideal tool for experimenting, documenting, and presenting data analysis and research.\n",
    "\n",
    "It also helps the process of your analysis or research to be reproducible from start to finish."
   ]
  },
  {
   "cell_type": "markdown",
   "id": "7c84237d-68c4-451d-8d76-dceef502ec28",
   "metadata": {
    "slideshow": {
     "slide_type": "subslide"
    },
    "tags": []
   },
   "source": [
    "### Some Example Cells:"
   ]
  },
  {
   "cell_type": "code",
   "execution_count": 2,
   "id": "3964a087-a2ae-4c06-8169-f950abbb5c77",
   "metadata": {
    "slideshow": {
     "slide_type": "fragment"
    },
    "tags": []
   },
   "outputs": [
    {
     "name": "stdout",
     "output_type": "stream",
     "text": [
      "Hello JALT\n"
     ]
    }
   ],
   "source": [
    "print(\"Hello JALT\")"
   ]
  },
  {
   "cell_type": "markdown",
   "id": "c5c1b252-e7e4-4697-ba10-a0bb0e436884",
   "metadata": {
    "slideshow": {
     "slide_type": "skip"
    },
    "tags": []
   },
   "source": [
    "Even though cells appear separate, they exist in the same namespace. If you define a variable `a` in one cell, it can be used or overwritten in another. The notebook will evaluate the cell if you have a variable, function, or object on the last line, it will be used for output:"
   ]
  },
  {
   "cell_type": "code",
   "execution_count": 81,
   "id": "e730d984-4760-4d8c-ac3b-6997cdcab102",
   "metadata": {
    "slideshow": {
     "slide_type": "fragment"
    },
    "tags": []
   },
   "outputs": [
    {
     "data": {
      "text/plain": [
       "'I eat pizza'"
      ]
     },
     "execution_count": 81,
     "metadata": {},
     "output_type": "execute_result"
    }
   ],
   "source": [
    "a = \"I eat pizza\"\n",
    "a "
   ]
  },
  {
   "cell_type": "markdown",
   "id": "0c566e75-0a87-485d-9028-be92cbeeaf6b",
   "metadata": {
    "slideshow": {
     "slide_type": "skip"
    },
    "tags": []
   },
   "source": [
    "We can reuse/change variables from other cells that have been executed. Let's add something else to the variable that we made above:"
   ]
  },
  {
   "cell_type": "code",
   "execution_count": 82,
   "id": "3bb5c163-c621-4553-8849-cbed9e154648",
   "metadata": {
    "slideshow": {
     "slide_type": "fragment"
    },
    "tags": []
   },
   "outputs": [
    {
     "data": {
      "text/plain": [
       "'I eat pizza every. single. day. 🍕😜'"
      ]
     },
     "execution_count": 82,
     "metadata": {},
     "output_type": "execute_result"
    }
   ],
   "source": [
    "a = a + \" every. single. day. 🍕😜\"\n",
    "a"
   ]
  },
  {
   "cell_type": "markdown",
   "id": "1fb9ca26-857d-4945-bcad-2aea531b6397",
   "metadata": {
    "slideshow": {
     "slide_type": "skip"
    },
    "tags": []
   },
   "source": [
    "Now that you've had a brief introduction to some of these tools, let's put them to use."
   ]
  },
  {
   "cell_type": "markdown",
   "id": "9c312241-e1f1-4b33-afa5-52648c8350f1",
   "metadata": {
    "slideshow": {
     "slide_type": "slide"
    },
    "tags": []
   },
   "source": [
    "# Our Research Project"
   ]
  },
  {
   "cell_type": "markdown",
   "id": "f553324a-dce7-4a9e-8229-64036b96fe0c",
   "metadata": {
    "slideshow": {
     "slide_type": "skip"
    },
    "tags": []
   },
   "source": [
    "In order to demonstrate how these tools can be used in a common research workflow, we created a research project. We made something that should be familiar to anyone doing research in the field of TESOL."
   ]
  },
  {
   "cell_type": "markdown",
   "id": "a04e6373-5e32-4434-ba01-8bf07ac6c62e",
   "metadata": {
    "jp-MarkdownHeadingCollapsed": true,
    "slideshow": {
     "slide_type": "fragment"
    },
    "tags": []
   },
   "source": [
    "**The Research Question:**\n",
    "\n",
    "```text\n",
    "Does incorporating pizza-related content into language learning materials positively impact English as a Foreign Language (EFL) learners' language acquisition, motivation, and confidence?\n",
    "```"
   ]
  },
  {
   "cell_type": "markdown",
   "id": "4de5d3fa-01b7-4cd1-bedf-d7a358b9b7dc",
   "metadata": {
    "jp-MarkdownHeadingCollapsed": true,
    "slideshow": {
     "slide_type": "skip"
    },
    "tags": []
   },
   "source": [
    "To test this theory, we can explore how the number of hours exposed to material correlates with motivation and confidence."
   ]
  },
  {
   "cell_type": "markdown",
   "id": "885ab795-fc2b-4f48-bdf6-ea359553a6c4",
   "metadata": {
    "jp-MarkdownHeadingCollapsed": true,
    "slideshow": {
     "slide_type": "skip"
    },
    "tags": []
   },
   "source": [
    "**Some details about the data:**\n",
    "\n",
    "- We used a Pre/Post Test for language skills with treatment being self-study exposure to pizza-related materials\n",
    "- Confidence and motivation are measured by Likert values (1: \"Very Low\", 2: \"Low\", 3: \"Medium\", 4: \"High\", 5: \"Very High\")\n",
    "- Total test score for both tests was 100\n",
    "- Students were expected to spend between 0 and 50 hours on the material given the timeframe\n",
    "- There were two forms used for our research (pre and post) which resulted in two excel files that we will use."
   ]
  },
  {
   "cell_type": "markdown",
   "id": "7e0f7670-1b22-4c17-aa1d-5a7888776535",
   "metadata": {
    "slideshow": {
     "slide_type": "skip"
    },
    "tags": []
   },
   "source": [
    "The data for this project is stored in two excel files:\n",
    "\n",
    "1. pre_pizza_material.xlsx\n",
    "2. post_pizza_material.xlsx"
   ]
  },
  {
   "cell_type": "markdown",
   "id": "61616e65-fc8f-454b-931f-2a2401d36423",
   "metadata": {
    "slideshow": {
     "slide_type": "slide"
    },
    "tags": []
   },
   "source": [
    "# Getting the Data into Python\n",
    "\n",
    "To analyze the data that we collected, we first need to import `pandas`. It's common to give pandas an alias of `pd`:"
   ]
  },
  {
   "cell_type": "code",
   "execution_count": 83,
   "id": "ff57e63a-60cc-48be-8e64-ad2c03c984a4",
   "metadata": {
    "slideshow": {
     "slide_type": "fragment"
    },
    "tags": []
   },
   "outputs": [],
   "source": [
    "import pandas as pd"
   ]
  },
  {
   "cell_type": "markdown",
   "id": "1b3d2821-8670-4573-8c3f-866bc70df26b",
   "metadata": {
    "slideshow": {
     "slide_type": "subslide"
    },
    "tags": []
   },
   "source": [
    "## Loading Data"
   ]
  },
  {
   "cell_type": "markdown",
   "id": "ce131987-1a53-447e-8f29-5170ec176fa8",
   "metadata": {
    "slideshow": {
     "slide_type": "skip"
    },
    "tags": []
   },
   "source": [
    "You can load data from various sources, such as CSV files, Excel spreadsheets, databases, or web APIs. Pandas reads the data and makes a `dataframe`.\n",
    "\n",
    "Dataframes are kind of like spreadsheets - they have rows and columns. They also contain other important information about the data.\n",
    "\n",
    "This is how we can load an excel file into a dataframe:"
   ]
  },
  {
   "cell_type": "code",
   "execution_count": 84,
   "id": "cad86c23-8881-4edb-9ab7-555381c39a8f",
   "metadata": {
    "slideshow": {
     "slide_type": "fragment"
    },
    "tags": []
   },
   "outputs": [],
   "source": [
    "pre_df = pd.read_excel(\"pre_pizza_material.xlsx\")"
   ]
  },
  {
   "cell_type": "markdown",
   "id": "976f9ee8-c4ef-47e2-b31b-33a8df34bffd",
   "metadata": {
    "slideshow": {
     "slide_type": "skip"
    },
    "tags": []
   },
   "source": [
    "We can see the top 5 rows by using a method called `head()`:"
   ]
  },
  {
   "cell_type": "code",
   "execution_count": 85,
   "id": "9d0294ba-dfad-4ae8-aa35-ffb838cc16f0",
   "metadata": {
    "slideshow": {
     "slide_type": "subslide"
    },
    "tags": []
   },
   "outputs": [
    {
     "data": {
      "text/html": [
       "<div>\n",
       "<style scoped>\n",
       "    .dataframe tbody tr th:only-of-type {\n",
       "        vertical-align: middle;\n",
       "    }\n",
       "\n",
       "    .dataframe tbody tr th {\n",
       "        vertical-align: top;\n",
       "    }\n",
       "\n",
       "    .dataframe thead th {\n",
       "        text-align: right;\n",
       "    }\n",
       "</style>\n",
       "<table border=\"1\" class=\"dataframe\">\n",
       "  <thead>\n",
       "    <tr style=\"text-align: right;\">\n",
       "      <th></th>\n",
       "      <th>ID Number</th>\n",
       "      <th>Name</th>\n",
       "      <th>Last Name</th>\n",
       "      <th>Age</th>\n",
       "      <th>Sex</th>\n",
       "      <th>yrs_eflexp</th>\n",
       "      <th>favorite_topping</th>\n",
       "      <th>pineapple</th>\n",
       "      <th>exp_pzmat</th>\n",
       "      <th>score</th>\n",
       "      <th>motivation</th>\n",
       "      <th>confidence</th>\n",
       "    </tr>\n",
       "  </thead>\n",
       "  <tbody>\n",
       "    <tr>\n",
       "      <th>0</th>\n",
       "      <td>91600124</td>\n",
       "      <td>John</td>\n",
       "      <td>Smith</td>\n",
       "      <td>18</td>\n",
       "      <td>Male</td>\n",
       "      <td>13</td>\n",
       "      <td>Pepperoni</td>\n",
       "      <td>y</td>\n",
       "      <td>n</td>\n",
       "      <td>71</td>\n",
       "      <td>2</td>\n",
       "      <td>2.0</td>\n",
       "    </tr>\n",
       "    <tr>\n",
       "      <th>1</th>\n",
       "      <td>91600185</td>\n",
       "      <td>Olivia</td>\n",
       "      <td>Johnson</td>\n",
       "      <td>19</td>\n",
       "      <td>Female</td>\n",
       "      <td>9</td>\n",
       "      <td>Sausage</td>\n",
       "      <td>y</td>\n",
       "      <td>n</td>\n",
       "      <td>45</td>\n",
       "      <td>2</td>\n",
       "      <td>3.0</td>\n",
       "    </tr>\n",
       "    <tr>\n",
       "      <th>2</th>\n",
       "      <td>91600140</td>\n",
       "      <td>James</td>\n",
       "      <td>Brown</td>\n",
       "      <td>19</td>\n",
       "      <td>Male</td>\n",
       "      <td>14</td>\n",
       "      <td>Onions</td>\n",
       "      <td>y</td>\n",
       "      <td>n</td>\n",
       "      <td>33</td>\n",
       "      <td>2</td>\n",
       "      <td>2.0</td>\n",
       "    </tr>\n",
       "    <tr>\n",
       "      <th>3</th>\n",
       "      <td>91600145</td>\n",
       "      <td>Emma</td>\n",
       "      <td>Williams</td>\n",
       "      <td>19</td>\n",
       "      <td>Female</td>\n",
       "      <td>10</td>\n",
       "      <td>Olives</td>\n",
       "      <td>n</td>\n",
       "      <td>n</td>\n",
       "      <td>62</td>\n",
       "      <td>1</td>\n",
       "      <td>2.0</td>\n",
       "    </tr>\n",
       "    <tr>\n",
       "      <th>4</th>\n",
       "      <td>91600173</td>\n",
       "      <td>William</td>\n",
       "      <td>Jones</td>\n",
       "      <td>18</td>\n",
       "      <td>Male</td>\n",
       "      <td>11</td>\n",
       "      <td>Green Peppers</td>\n",
       "      <td>n</td>\n",
       "      <td>n</td>\n",
       "      <td>56</td>\n",
       "      <td>1</td>\n",
       "      <td>1.0</td>\n",
       "    </tr>\n",
       "  </tbody>\n",
       "</table>\n",
       "</div>"
      ],
      "text/plain": [
       "   ID Number     Name Last Name  Age     Sex  yrs_eflexp favorite_topping  \\\n",
       "0   91600124     John     Smith   18    Male          13        Pepperoni   \n",
       "1   91600185   Olivia   Johnson   19  Female           9          Sausage   \n",
       "2   91600140    James     Brown   19    Male          14           Onions   \n",
       "3   91600145     Emma  Williams   19  Female          10           Olives   \n",
       "4   91600173  William     Jones   18    Male          11    Green Peppers   \n",
       "\n",
       "  pineapple exp_pzmat  score  motivation  confidence  \n",
       "0         y         n     71           2         2.0  \n",
       "1         y         n     45           2         3.0  \n",
       "2         y         n     33           2         2.0  \n",
       "3         n         n     62           1         2.0  \n",
       "4         n         n     56           1         1.0  "
      ]
     },
     "execution_count": 85,
     "metadata": {},
     "output_type": "execute_result"
    }
   ],
   "source": [
    "pre_df.head()"
   ]
  },
  {
   "cell_type": "markdown",
   "id": "6343d1ec-642a-4dae-a2f8-42d1d55dd887",
   "metadata": {
    "slideshow": {
     "slide_type": "skip"
    },
    "tags": []
   },
   "source": [
    "It's the same process for the post-material data:"
   ]
  },
  {
   "cell_type": "code",
   "execution_count": 86,
   "id": "9ea970df-31c6-4753-b1f7-f9bdae317160",
   "metadata": {
    "slideshow": {
     "slide_type": "subslide"
    },
    "tags": []
   },
   "outputs": [
    {
     "data": {
      "text/html": [
       "<div>\n",
       "<style scoped>\n",
       "    .dataframe tbody tr th:only-of-type {\n",
       "        vertical-align: middle;\n",
       "    }\n",
       "\n",
       "    .dataframe tbody tr th {\n",
       "        vertical-align: top;\n",
       "    }\n",
       "\n",
       "    .dataframe thead th {\n",
       "        text-align: right;\n",
       "    }\n",
       "</style>\n",
       "<table border=\"1\" class=\"dataframe\">\n",
       "  <thead>\n",
       "    <tr style=\"text-align: right;\">\n",
       "      <th></th>\n",
       "      <th>ID Number</th>\n",
       "      <th>hrs_pzmat</th>\n",
       "      <th>score</th>\n",
       "      <th>motivation</th>\n",
       "      <th>confidence</th>\n",
       "      <th>favorite_topping</th>\n",
       "    </tr>\n",
       "  </thead>\n",
       "  <tbody>\n",
       "    <tr>\n",
       "      <th>0</th>\n",
       "      <td>91600124</td>\n",
       "      <td>25</td>\n",
       "      <td>82</td>\n",
       "      <td>3</td>\n",
       "      <td>2</td>\n",
       "      <td>Pineapple</td>\n",
       "    </tr>\n",
       "    <tr>\n",
       "      <th>1</th>\n",
       "      <td>91600185</td>\n",
       "      <td>14</td>\n",
       "      <td>76</td>\n",
       "      <td>2</td>\n",
       "      <td>5</td>\n",
       "      <td>Pineapple</td>\n",
       "    </tr>\n",
       "    <tr>\n",
       "      <th>2</th>\n",
       "      <td>91600140</td>\n",
       "      <td>20</td>\n",
       "      <td>68</td>\n",
       "      <td>2</td>\n",
       "      <td>3</td>\n",
       "      <td>Pineapple</td>\n",
       "    </tr>\n",
       "    <tr>\n",
       "      <th>3</th>\n",
       "      <td>91600145</td>\n",
       "      <td>11</td>\n",
       "      <td>90</td>\n",
       "      <td>1</td>\n",
       "      <td>4</td>\n",
       "      <td>Pineapple</td>\n",
       "    </tr>\n",
       "    <tr>\n",
       "      <th>4</th>\n",
       "      <td>91600173</td>\n",
       "      <td>18</td>\n",
       "      <td>78</td>\n",
       "      <td>4</td>\n",
       "      <td>4</td>\n",
       "      <td>Pineapple</td>\n",
       "    </tr>\n",
       "  </tbody>\n",
       "</table>\n",
       "</div>"
      ],
      "text/plain": [
       "   ID Number  hrs_pzmat  score  motivation  confidence favorite_topping\n",
       "0   91600124         25     82           3           2        Pineapple\n",
       "1   91600185         14     76           2           5        Pineapple\n",
       "2   91600140         20     68           2           3        Pineapple\n",
       "3   91600145         11     90           1           4        Pineapple\n",
       "4   91600173         18     78           4           4        Pineapple"
      ]
     },
     "execution_count": 86,
     "metadata": {},
     "output_type": "execute_result"
    }
   ],
   "source": [
    "post_df = pd.read_excel(\"post_pizza_material.xlsx\")\n",
    "post_df.head()"
   ]
  },
  {
   "cell_type": "markdown",
   "id": "44f71513-db89-4330-88ca-1f18ebcb6d7c",
   "metadata": {
    "slideshow": {
     "slide_type": "subslide"
    },
    "tags": []
   },
   "source": [
    "## Merging the two Dataframes\n",
    "\n",
    "We have two dataframes now that we need to merge together. Conceptually, this is what happens:\n",
    "\n",
    "![pd_merge](assets/pd_merge.svg)"
   ]
  },
  {
   "cell_type": "markdown",
   "id": "e2a23087-032f-4161-b40d-877b67821759",
   "metadata": {
    "slideshow": {
     "slide_type": "skip"
    },
    "tags": []
   },
   "source": [
    "We will use Pandas' `merge()` method to merge the two dataframes on the `ID Number` column. Some of the column names are the same, and when that happens pandas will automatically add suffixes. We want specific suffixes so we will instruct the method to use `_pre` and `_post`.\n",
    "\n",
    "We will assign the merged dataframe to a variable **`df`** which will be used throughout the rest of the notebook. The variable name could be anything, but it's common to use `df`."
   ]
  },
  {
   "cell_type": "code",
   "execution_count": 9,
   "id": "feba1ff5-553f-49f0-a015-f258f09f81af",
   "metadata": {
    "slideshow": {
     "slide_type": "subslide"
    },
    "tags": []
   },
   "outputs": [
    {
     "data": {
      "text/html": [
       "<div>\n",
       "<style scoped>\n",
       "    .dataframe tbody tr th:only-of-type {\n",
       "        vertical-align: middle;\n",
       "    }\n",
       "\n",
       "    .dataframe tbody tr th {\n",
       "        vertical-align: top;\n",
       "    }\n",
       "\n",
       "    .dataframe thead th {\n",
       "        text-align: right;\n",
       "    }\n",
       "</style>\n",
       "<table border=\"1\" class=\"dataframe\">\n",
       "  <thead>\n",
       "    <tr style=\"text-align: right;\">\n",
       "      <th></th>\n",
       "      <th>ID Number</th>\n",
       "      <th>Name</th>\n",
       "      <th>Last Name</th>\n",
       "      <th>Age</th>\n",
       "      <th>Sex</th>\n",
       "      <th>yrs_eflexp</th>\n",
       "      <th>favorite_topping_pre</th>\n",
       "      <th>pineapple</th>\n",
       "      <th>exp_pzmat</th>\n",
       "      <th>score_pre</th>\n",
       "      <th>motivation_pre</th>\n",
       "      <th>confidence_pre</th>\n",
       "      <th>hrs_pzmat</th>\n",
       "      <th>score_post</th>\n",
       "      <th>motivation_post</th>\n",
       "      <th>confidence_post</th>\n",
       "      <th>favorite_topping_post</th>\n",
       "    </tr>\n",
       "  </thead>\n",
       "  <tbody>\n",
       "    <tr>\n",
       "      <th>0</th>\n",
       "      <td>91600124</td>\n",
       "      <td>John</td>\n",
       "      <td>Smith</td>\n",
       "      <td>18</td>\n",
       "      <td>Male</td>\n",
       "      <td>13</td>\n",
       "      <td>Pepperoni</td>\n",
       "      <td>y</td>\n",
       "      <td>n</td>\n",
       "      <td>71</td>\n",
       "      <td>2</td>\n",
       "      <td>2.0</td>\n",
       "      <td>25</td>\n",
       "      <td>82</td>\n",
       "      <td>3</td>\n",
       "      <td>2</td>\n",
       "      <td>Pineapple</td>\n",
       "    </tr>\n",
       "    <tr>\n",
       "      <th>1</th>\n",
       "      <td>91600185</td>\n",
       "      <td>Olivia</td>\n",
       "      <td>Johnson</td>\n",
       "      <td>19</td>\n",
       "      <td>Female</td>\n",
       "      <td>9</td>\n",
       "      <td>Sausage</td>\n",
       "      <td>y</td>\n",
       "      <td>n</td>\n",
       "      <td>45</td>\n",
       "      <td>2</td>\n",
       "      <td>3.0</td>\n",
       "      <td>14</td>\n",
       "      <td>76</td>\n",
       "      <td>2</td>\n",
       "      <td>5</td>\n",
       "      <td>Pineapple</td>\n",
       "    </tr>\n",
       "    <tr>\n",
       "      <th>2</th>\n",
       "      <td>91600140</td>\n",
       "      <td>James</td>\n",
       "      <td>Brown</td>\n",
       "      <td>19</td>\n",
       "      <td>Male</td>\n",
       "      <td>14</td>\n",
       "      <td>Onions</td>\n",
       "      <td>y</td>\n",
       "      <td>n</td>\n",
       "      <td>33</td>\n",
       "      <td>2</td>\n",
       "      <td>2.0</td>\n",
       "      <td>20</td>\n",
       "      <td>68</td>\n",
       "      <td>2</td>\n",
       "      <td>3</td>\n",
       "      <td>Pineapple</td>\n",
       "    </tr>\n",
       "    <tr>\n",
       "      <th>3</th>\n",
       "      <td>91600145</td>\n",
       "      <td>Emma</td>\n",
       "      <td>Williams</td>\n",
       "      <td>19</td>\n",
       "      <td>Female</td>\n",
       "      <td>10</td>\n",
       "      <td>Olives</td>\n",
       "      <td>n</td>\n",
       "      <td>n</td>\n",
       "      <td>62</td>\n",
       "      <td>1</td>\n",
       "      <td>2.0</td>\n",
       "      <td>11</td>\n",
       "      <td>90</td>\n",
       "      <td>1</td>\n",
       "      <td>4</td>\n",
       "      <td>Pineapple</td>\n",
       "    </tr>\n",
       "    <tr>\n",
       "      <th>4</th>\n",
       "      <td>91600173</td>\n",
       "      <td>William</td>\n",
       "      <td>Jones</td>\n",
       "      <td>18</td>\n",
       "      <td>Male</td>\n",
       "      <td>11</td>\n",
       "      <td>Green Peppers</td>\n",
       "      <td>n</td>\n",
       "      <td>n</td>\n",
       "      <td>56</td>\n",
       "      <td>1</td>\n",
       "      <td>1.0</td>\n",
       "      <td>18</td>\n",
       "      <td>78</td>\n",
       "      <td>4</td>\n",
       "      <td>4</td>\n",
       "      <td>Pineapple</td>\n",
       "    </tr>\n",
       "  </tbody>\n",
       "</table>\n",
       "</div>"
      ],
      "text/plain": [
       "   ID Number     Name Last Name  Age     Sex  yrs_eflexp favorite_topping_pre  \\\n",
       "0   91600124     John     Smith   18    Male          13            Pepperoni   \n",
       "1   91600185   Olivia   Johnson   19  Female           9              Sausage   \n",
       "2   91600140    James     Brown   19    Male          14               Onions   \n",
       "3   91600145     Emma  Williams   19  Female          10               Olives   \n",
       "4   91600173  William     Jones   18    Male          11        Green Peppers   \n",
       "\n",
       "  pineapple exp_pzmat  score_pre  motivation_pre  confidence_pre  hrs_pzmat  \\\n",
       "0         y         n         71               2             2.0         25   \n",
       "1         y         n         45               2             3.0         14   \n",
       "2         y         n         33               2             2.0         20   \n",
       "3         n         n         62               1             2.0         11   \n",
       "4         n         n         56               1             1.0         18   \n",
       "\n",
       "   score_post  motivation_post  confidence_post favorite_topping_post  \n",
       "0          82                3                2             Pineapple  \n",
       "1          76                2                5             Pineapple  \n",
       "2          68                2                3             Pineapple  \n",
       "3          90                1                4             Pineapple  \n",
       "4          78                4                4             Pineapple  "
      ]
     },
     "execution_count": 9,
     "metadata": {},
     "output_type": "execute_result"
    }
   ],
   "source": [
    "df = pd.merge(\n",
    "    pre_df, post_df,\n",
    "    on=\"ID Number\",\n",
    "    suffixes=(\"_pre\", \"_post\"),\n",
    "    validate=\"one_to_one\"\n",
    ")\n",
    "\n",
    "# Let's see it!\n",
    "df.head()"
   ]
  },
  {
   "cell_type": "markdown",
   "id": "bc1666a6-37ac-4dd4-8a05-4094ecc8a2f2",
   "metadata": {
    "slideshow": {
     "slide_type": "skip"
    },
    "tags": []
   },
   "source": [
    "# Handling a Dataframe"
   ]
  },
  {
   "cell_type": "markdown",
   "id": "7a32be86-d2cc-400a-8257-1d16f88a7928",
   "metadata": {
    "slideshow": {
     "slide_type": "skip"
    },
    "tags": []
   },
   "source": [
    "We now have a **dataframe** and it is crucial to learn how to view and select different parts of the data. We may also want to change columns and save it. This section gives an overview of some of the methods to do so."
   ]
  },
  {
   "cell_type": "markdown",
   "id": "13c3417b-4c8d-45fe-a8f2-7e74ff477f5d",
   "metadata": {
    "slideshow": {
     "slide_type": "slide"
    },
    "tags": []
   },
   "source": [
    "## Inspecting the Dataframe\n",
    "\n",
    "Apart from `head()`, Pandas has some convenient ways to get an overview of the data."
   ]
  },
  {
   "cell_type": "markdown",
   "id": "32afddd4-1beb-4f97-b1e6-13391d974834",
   "metadata": {
    "slideshow": {
     "slide_type": "skip"
    },
    "tags": []
   },
   "source": [
    "A dataframe has a `shape` attribute that gives the number of rows and columns:"
   ]
  },
  {
   "cell_type": "code",
   "execution_count": 10,
   "id": "36e828b6-6e28-48b4-a64f-368b30d65580",
   "metadata": {
    "slideshow": {
     "slide_type": "skip"
    },
    "tags": []
   },
   "outputs": [
    {
     "data": {
      "text/plain": [
       "(72, 17)"
      ]
     },
     "execution_count": 10,
     "metadata": {},
     "output_type": "execute_result"
    }
   ],
   "source": [
    "df.shape"
   ]
  },
  {
   "cell_type": "markdown",
   "id": "03e0c1f7-bd59-43ab-91d4-6fa2a414573f",
   "metadata": {
    "slideshow": {
     "slide_type": "skip"
    },
    "tags": []
   },
   "source": [
    "A dataframe's `describe()` method will generate descriptive statistics *all* numeric columns.\n",
    "\n",
    "Usually it will print out long float values, but we can round it to two decimal places using `round()`."
   ]
  },
  {
   "cell_type": "code",
   "execution_count": 87,
   "id": "c918a7c2-7cd6-440f-8ea1-924d8971afdf",
   "metadata": {
    "slideshow": {
     "slide_type": "subslide"
    },
    "tags": []
   },
   "outputs": [
    {
     "data": {
      "text/html": [
       "<div>\n",
       "<style scoped>\n",
       "    .dataframe tbody tr th:only-of-type {\n",
       "        vertical-align: middle;\n",
       "    }\n",
       "\n",
       "    .dataframe tbody tr th {\n",
       "        vertical-align: top;\n",
       "    }\n",
       "\n",
       "    .dataframe thead th {\n",
       "        text-align: right;\n",
       "    }\n",
       "</style>\n",
       "<table border=\"1\" class=\"dataframe\">\n",
       "  <thead>\n",
       "    <tr style=\"text-align: right;\">\n",
       "      <th></th>\n",
       "      <th>Age</th>\n",
       "      <th>yrs_eflexp</th>\n",
       "      <th>score_pre</th>\n",
       "      <th>motivation_pre</th>\n",
       "      <th>confidence_pre</th>\n",
       "      <th>hrs_pzmat</th>\n",
       "      <th>score_post</th>\n",
       "      <th>motivation_post</th>\n",
       "      <th>confidence_post</th>\n",
       "      <th>start_efl_year</th>\n",
       "      <th>motivation_change</th>\n",
       "    </tr>\n",
       "  </thead>\n",
       "  <tbody>\n",
       "    <tr>\n",
       "      <th>count</th>\n",
       "      <td>72.00</td>\n",
       "      <td>72.00</td>\n",
       "      <td>72.00</td>\n",
       "      <td>72.00</td>\n",
       "      <td>72.00</td>\n",
       "      <td>72.00</td>\n",
       "      <td>72.00</td>\n",
       "      <td>72.00</td>\n",
       "      <td>72.00</td>\n",
       "      <td>72.00</td>\n",
       "      <td>72.00</td>\n",
       "    </tr>\n",
       "    <tr>\n",
       "      <th>mean</th>\n",
       "      <td>19.54</td>\n",
       "      <td>9.83</td>\n",
       "      <td>0.48</td>\n",
       "      <td>1.94</td>\n",
       "      <td>2.26</td>\n",
       "      <td>17.69</td>\n",
       "      <td>0.76</td>\n",
       "      <td>3.85</td>\n",
       "      <td>3.26</td>\n",
       "      <td>9.71</td>\n",
       "      <td>1.90</td>\n",
       "    </tr>\n",
       "    <tr>\n",
       "      <th>std</th>\n",
       "      <td>1.32</td>\n",
       "      <td>2.69</td>\n",
       "      <td>0.17</td>\n",
       "      <td>0.98</td>\n",
       "      <td>0.71</td>\n",
       "      <td>7.18</td>\n",
       "      <td>0.13</td>\n",
       "      <td>1.03</td>\n",
       "      <td>1.29</td>\n",
       "      <td>2.95</td>\n",
       "      <td>1.37</td>\n",
       "    </tr>\n",
       "    <tr>\n",
       "      <th>min</th>\n",
       "      <td>18.00</td>\n",
       "      <td>5.00</td>\n",
       "      <td>0.11</td>\n",
       "      <td>1.00</td>\n",
       "      <td>1.00</td>\n",
       "      <td>2.00</td>\n",
       "      <td>0.34</td>\n",
       "      <td>1.00</td>\n",
       "      <td>1.00</td>\n",
       "      <td>4.00</td>\n",
       "      <td>-1.00</td>\n",
       "    </tr>\n",
       "    <tr>\n",
       "      <th>25%</th>\n",
       "      <td>19.00</td>\n",
       "      <td>7.75</td>\n",
       "      <td>0.34</td>\n",
       "      <td>1.00</td>\n",
       "      <td>2.00</td>\n",
       "      <td>13.75</td>\n",
       "      <td>0.67</td>\n",
       "      <td>3.00</td>\n",
       "      <td>2.00</td>\n",
       "      <td>7.75</td>\n",
       "      <td>1.00</td>\n",
       "    </tr>\n",
       "    <tr>\n",
       "      <th>50%</th>\n",
       "      <td>19.00</td>\n",
       "      <td>10.00</td>\n",
       "      <td>0.48</td>\n",
       "      <td>2.00</td>\n",
       "      <td>2.00</td>\n",
       "      <td>16.00</td>\n",
       "      <td>0.76</td>\n",
       "      <td>4.00</td>\n",
       "      <td>3.50</td>\n",
       "      <td>9.00</td>\n",
       "      <td>2.00</td>\n",
       "    </tr>\n",
       "    <tr>\n",
       "      <th>75%</th>\n",
       "      <td>20.25</td>\n",
       "      <td>12.00</td>\n",
       "      <td>0.61</td>\n",
       "      <td>3.00</td>\n",
       "      <td>3.00</td>\n",
       "      <td>23.25</td>\n",
       "      <td>0.85</td>\n",
       "      <td>5.00</td>\n",
       "      <td>4.00</td>\n",
       "      <td>12.00</td>\n",
       "      <td>3.00</td>\n",
       "    </tr>\n",
       "    <tr>\n",
       "      <th>max</th>\n",
       "      <td>22.00</td>\n",
       "      <td>14.00</td>\n",
       "      <td>0.79</td>\n",
       "      <td>5.00</td>\n",
       "      <td>4.00</td>\n",
       "      <td>30.00</td>\n",
       "      <td>0.99</td>\n",
       "      <td>5.00</td>\n",
       "      <td>5.00</td>\n",
       "      <td>16.00</td>\n",
       "      <td>4.00</td>\n",
       "    </tr>\n",
       "  </tbody>\n",
       "</table>\n",
       "</div>"
      ],
      "text/plain": [
       "         Age  yrs_eflexp  score_pre  motivation_pre  confidence_pre  \\\n",
       "count  72.00       72.00      72.00           72.00           72.00   \n",
       "mean   19.54        9.83       0.48            1.94            2.26   \n",
       "std     1.32        2.69       0.17            0.98            0.71   \n",
       "min    18.00        5.00       0.11            1.00            1.00   \n",
       "25%    19.00        7.75       0.34            1.00            2.00   \n",
       "50%    19.00       10.00       0.48            2.00            2.00   \n",
       "75%    20.25       12.00       0.61            3.00            3.00   \n",
       "max    22.00       14.00       0.79            5.00            4.00   \n",
       "\n",
       "       hrs_pzmat  score_post  motivation_post  confidence_post  \\\n",
       "count      72.00       72.00            72.00            72.00   \n",
       "mean       17.69        0.76             3.85             3.26   \n",
       "std         7.18        0.13             1.03             1.29   \n",
       "min         2.00        0.34             1.00             1.00   \n",
       "25%        13.75        0.67             3.00             2.00   \n",
       "50%        16.00        0.76             4.00             3.50   \n",
       "75%        23.25        0.85             5.00             4.00   \n",
       "max        30.00        0.99             5.00             5.00   \n",
       "\n",
       "       start_efl_year  motivation_change  \n",
       "count           72.00              72.00  \n",
       "mean             9.71               1.90  \n",
       "std              2.95               1.37  \n",
       "min              4.00              -1.00  \n",
       "25%              7.75               1.00  \n",
       "50%              9.00               2.00  \n",
       "75%             12.00               3.00  \n",
       "max             16.00               4.00  "
      ]
     },
     "execution_count": 87,
     "metadata": {},
     "output_type": "execute_result"
    }
   ],
   "source": [
    "round(df.describe(), 2)"
   ]
  },
  {
   "cell_type": "markdown",
   "id": "abd91d5c-cf97-45d2-8cb6-9ea0b7dc69cd",
   "metadata": {
    "slideshow": {
     "slide_type": "skip"
    },
    "tags": []
   },
   "source": [
    "If you spend a few moments looking at the result of `describe()`, you may have some questions:\n",
    "\n",
    "1. Why do all columns except one have a *count* of 72?\n",
    "2. Why is the max of *hrs_pzmat* 603?"
   ]
  },
  {
   "cell_type": "markdown",
   "id": "6c3a1bcc-8e65-473a-be32-31aed411678b",
   "metadata": {
    "slideshow": {
     "slide_type": "skip"
    },
    "tags": []
   },
   "source": [
    "Another method, `info()`, is used to list the columns. It will show the column index (**#**), **Column**, the **Non-Null Count**, and **Dtype**.\n",
    "\n",
    "**Dtype** is the data type of the column. With our data, some columns will be *int64* (integers) or *float64* (floats), but most are *object* because they contained strings.\n",
    "\n",
    "At the bottom of the printed table, we can see counts of each data type and how much memory the dataframe is consuming.\n",
    "\n",
    "We can inspect the **Non-Null Count** column to see if we have any missing values.\n",
    "\n"
   ]
  },
  {
   "cell_type": "code",
   "execution_count": 12,
   "id": "aa6a1501-70a9-4940-aa29-fbbce6591cfa",
   "metadata": {
    "slideshow": {
     "slide_type": "subslide"
    },
    "tags": []
   },
   "outputs": [
    {
     "name": "stdout",
     "output_type": "stream",
     "text": [
      "<class 'pandas.core.frame.DataFrame'>\n",
      "Int64Index: 72 entries, 0 to 71\n",
      "Data columns (total 17 columns):\n",
      " #   Column                 Non-Null Count  Dtype  \n",
      "---  ------                 --------------  -----  \n",
      " 0   ID Number              72 non-null     int64  \n",
      " 1   Name                   72 non-null     object \n",
      " 2   Last Name              72 non-null     object \n",
      " 3   Age                    72 non-null     int64  \n",
      " 4   Sex                    72 non-null     object \n",
      " 5   yrs_eflexp             72 non-null     int64  \n",
      " 6   favorite_topping_pre   72 non-null     object \n",
      " 7   pineapple              72 non-null     object \n",
      " 8   exp_pzmat              72 non-null     object \n",
      " 9   score_pre              72 non-null     int64  \n",
      " 10  motivation_pre         72 non-null     int64  \n",
      " 11  confidence_pre         71 non-null     float64\n",
      " 12  hrs_pzmat              72 non-null     int64  \n",
      " 13  score_post             72 non-null     int64  \n",
      " 14  motivation_post        72 non-null     int64  \n",
      " 15  confidence_post        72 non-null     int64  \n",
      " 16  favorite_topping_post  72 non-null     object \n",
      "dtypes: float64(1), int64(9), object(7)\n",
      "memory usage: 10.1+ KB\n"
     ]
    }
   ],
   "source": [
    "df.info()"
   ]
  },
  {
   "cell_type": "markdown",
   "id": "6b76d3c9-40b7-43d9-a0b8-b56f28d1b043",
   "metadata": {
    "slideshow": {
     "slide_type": "slide"
    },
    "tags": []
   },
   "source": [
    "## Selecting Parts of a DataFrame"
   ]
  },
  {
   "cell_type": "markdown",
   "id": "9428f17d-df1b-4a53-8b2e-59ca005d0a4f",
   "metadata": {
    "slideshow": {
     "slide_type": "skip"
    },
    "tags": []
   },
   "source": [
    "A **dataframe** is certainy similar to a spreadsheet. We can see parts of it with methods like `head()`, but how can we select and view different parts of it? The following will illustrate some methods to do this.\n",
    "\n",
    "These and other selection and viewing skills are essential building blocks for manipulating and analyzing the data."
   ]
  },
  {
   "cell_type": "markdown",
   "id": "c3256073-777c-48e1-90bb-e77bcf8823c2",
   "metadata": {
    "slideshow": {
     "slide_type": "subslide"
    },
    "tags": []
   },
   "source": [
    "### Selecting a Column\n",
    "\n",
    "The syntax is like this: `dataframe[column_name]`. Note that when you select a column, what is returned is a `Series`.\n",
    "\n",
    "![selecting a column](assets/select_column.svg)"
   ]
  },
  {
   "cell_type": "code",
   "execution_count": 13,
   "id": "229536d1-b399-4512-96e1-77ee4d3a028f",
   "metadata": {
    "slideshow": {
     "slide_type": "subslide"
    },
    "tags": []
   },
   "outputs": [
    {
     "data": {
      "text/plain": [
       "0     18\n",
       "1     19\n",
       "2     19\n",
       "3     19\n",
       "4     18\n",
       "      ..\n",
       "67    22\n",
       "68    19\n",
       "69    22\n",
       "70    18\n",
       "71    20\n",
       "Name: Age, Length: 72, dtype: int64"
      ]
     },
     "execution_count": 13,
     "metadata": {},
     "output_type": "execute_result"
    }
   ],
   "source": [
    "# Let's select the Age column in our dataframe\n",
    "df[\"Age\"]"
   ]
  },
  {
   "cell_type": "markdown",
   "id": "3170d104-5283-47c7-89cc-8398828fb393",
   "metadata": {
    "slideshow": {
     "slide_type": "subslide"
    },
    "tags": []
   },
   "source": [
    "### Selecting Multiple Columns\n",
    "\n",
    "The above used one column name. If we have more columns we can provide them as comma-separated list. Now, instead of a `Series` what is returned is a `DataFrame`.\n",
    "\n",
    "![selecting multiple columns](assets/select_multiple_columns.svg)"
   ]
  },
  {
   "cell_type": "code",
   "execution_count": 14,
   "id": "4cd0abd5-8a1f-48a7-b153-f8df886b0495",
   "metadata": {
    "slideshow": {
     "slide_type": "subslide"
    },
    "tags": []
   },
   "outputs": [
    {
     "data": {
      "text/html": [
       "<div>\n",
       "<style scoped>\n",
       "    .dataframe tbody tr th:only-of-type {\n",
       "        vertical-align: middle;\n",
       "    }\n",
       "\n",
       "    .dataframe tbody tr th {\n",
       "        vertical-align: top;\n",
       "    }\n",
       "\n",
       "    .dataframe thead th {\n",
       "        text-align: right;\n",
       "    }\n",
       "</style>\n",
       "<table border=\"1\" class=\"dataframe\">\n",
       "  <thead>\n",
       "    <tr style=\"text-align: right;\">\n",
       "      <th></th>\n",
       "      <th>Age</th>\n",
       "      <th>Sex</th>\n",
       "    </tr>\n",
       "  </thead>\n",
       "  <tbody>\n",
       "    <tr>\n",
       "      <th>0</th>\n",
       "      <td>18</td>\n",
       "      <td>Male</td>\n",
       "    </tr>\n",
       "    <tr>\n",
       "      <th>1</th>\n",
       "      <td>19</td>\n",
       "      <td>Female</td>\n",
       "    </tr>\n",
       "    <tr>\n",
       "      <th>2</th>\n",
       "      <td>19</td>\n",
       "      <td>Male</td>\n",
       "    </tr>\n",
       "    <tr>\n",
       "      <th>3</th>\n",
       "      <td>19</td>\n",
       "      <td>Female</td>\n",
       "    </tr>\n",
       "    <tr>\n",
       "      <th>4</th>\n",
       "      <td>18</td>\n",
       "      <td>Male</td>\n",
       "    </tr>\n",
       "    <tr>\n",
       "      <th>...</th>\n",
       "      <td>...</td>\n",
       "      <td>...</td>\n",
       "    </tr>\n",
       "    <tr>\n",
       "      <th>67</th>\n",
       "      <td>22</td>\n",
       "      <td>Female</td>\n",
       "    </tr>\n",
       "    <tr>\n",
       "      <th>68</th>\n",
       "      <td>19</td>\n",
       "      <td>Male</td>\n",
       "    </tr>\n",
       "    <tr>\n",
       "      <th>69</th>\n",
       "      <td>22</td>\n",
       "      <td>Female</td>\n",
       "    </tr>\n",
       "    <tr>\n",
       "      <th>70</th>\n",
       "      <td>18</td>\n",
       "      <td>Male</td>\n",
       "    </tr>\n",
       "    <tr>\n",
       "      <th>71</th>\n",
       "      <td>20</td>\n",
       "      <td>Female</td>\n",
       "    </tr>\n",
       "  </tbody>\n",
       "</table>\n",
       "<p>72 rows × 2 columns</p>\n",
       "</div>"
      ],
      "text/plain": [
       "    Age     Sex\n",
       "0    18    Male\n",
       "1    19  Female\n",
       "2    19    Male\n",
       "3    19  Female\n",
       "4    18    Male\n",
       "..  ...     ...\n",
       "67   22  Female\n",
       "68   19    Male\n",
       "69   22  Female\n",
       "70   18    Male\n",
       "71   20  Female\n",
       "\n",
       "[72 rows x 2 columns]"
      ]
     },
     "execution_count": 14,
     "metadata": {},
     "output_type": "execute_result"
    }
   ],
   "source": [
    "df[[\"Age\", \"Sex\"]]   # The list is [\"Age\", \"Sex\"]"
   ]
  },
  {
   "cell_type": "markdown",
   "id": "1324dd6c-aa05-43ba-9652-42775c45821f",
   "metadata": {
    "slideshow": {
     "slide_type": "subslide"
    },
    "tags": []
   },
   "source": [
    "### Selecting Rows\n",
    "\n",
    "We can select rows (one or many). To select rows by the index label we can use `loc`. \n",
    "\n",
    "![select rows with loc](assets/select_rows.svg)"
   ]
  },
  {
   "cell_type": "markdown",
   "id": "8fb5d409-e123-4442-98b6-1937af1b6c7b",
   "metadata": {
    "slideshow": {
     "slide_type": "skip"
    },
    "tags": []
   },
   "source": [
    "Let's try it. We select rows where the index label starts at 4 to where the label is and includes 10:"
   ]
  },
  {
   "cell_type": "code",
   "execution_count": 89,
   "id": "70e574d8-c846-4fd1-93de-37d82d57722e",
   "metadata": {
    "slideshow": {
     "slide_type": "subslide"
    },
    "tags": []
   },
   "outputs": [
    {
     "data": {
      "text/html": [
       "<div>\n",
       "<style scoped>\n",
       "    .dataframe tbody tr th:only-of-type {\n",
       "        vertical-align: middle;\n",
       "    }\n",
       "\n",
       "    .dataframe tbody tr th {\n",
       "        vertical-align: top;\n",
       "    }\n",
       "\n",
       "    .dataframe thead th {\n",
       "        text-align: right;\n",
       "    }\n",
       "</style>\n",
       "<table border=\"1\" class=\"dataframe\">\n",
       "  <thead>\n",
       "    <tr style=\"text-align: right;\">\n",
       "      <th></th>\n",
       "      <th>Age</th>\n",
       "      <th>Sex</th>\n",
       "      <th>yrs_eflexp</th>\n",
       "      <th>favorite_topping_pre</th>\n",
       "      <th>pineapple</th>\n",
       "      <th>exp_pzmat</th>\n",
       "      <th>score_pre</th>\n",
       "      <th>motivation_pre</th>\n",
       "      <th>confidence_pre</th>\n",
       "      <th>hrs_pzmat</th>\n",
       "      <th>score_post</th>\n",
       "      <th>motivation_post</th>\n",
       "      <th>confidence_post</th>\n",
       "      <th>favorite_topping_post</th>\n",
       "      <th>start_efl_year</th>\n",
       "      <th>motivation_change</th>\n",
       "    </tr>\n",
       "  </thead>\n",
       "  <tbody>\n",
       "    <tr>\n",
       "      <th>4</th>\n",
       "      <td>18</td>\n",
       "      <td>MALE</td>\n",
       "      <td>11</td>\n",
       "      <td>GREEN PEPPERS</td>\n",
       "      <td>False</td>\n",
       "      <td>False</td>\n",
       "      <td>0.56</td>\n",
       "      <td>1</td>\n",
       "      <td>1.0</td>\n",
       "      <td>18</td>\n",
       "      <td>0.78</td>\n",
       "      <td>4</td>\n",
       "      <td>4</td>\n",
       "      <td>PINEAPPLE</td>\n",
       "      <td>7</td>\n",
       "      <td>3</td>\n",
       "    </tr>\n",
       "    <tr>\n",
       "      <th>5</th>\n",
       "      <td>19</td>\n",
       "      <td>FEMALE</td>\n",
       "      <td>13</td>\n",
       "      <td>CHICKEN</td>\n",
       "      <td>True</td>\n",
       "      <td>False</td>\n",
       "      <td>0.42</td>\n",
       "      <td>2</td>\n",
       "      <td>2.0</td>\n",
       "      <td>16</td>\n",
       "      <td>0.66</td>\n",
       "      <td>5</td>\n",
       "      <td>5</td>\n",
       "      <td>PINEAPPLE</td>\n",
       "      <td>6</td>\n",
       "      <td>3</td>\n",
       "    </tr>\n",
       "    <tr>\n",
       "      <th>6</th>\n",
       "      <td>19</td>\n",
       "      <td>MALE</td>\n",
       "      <td>14</td>\n",
       "      <td>BACON</td>\n",
       "      <td>True</td>\n",
       "      <td>False</td>\n",
       "      <td>0.79</td>\n",
       "      <td>2</td>\n",
       "      <td>3.0</td>\n",
       "      <td>22</td>\n",
       "      <td>0.89</td>\n",
       "      <td>3</td>\n",
       "      <td>2</td>\n",
       "      <td>PINEAPPLE</td>\n",
       "      <td>5</td>\n",
       "      <td>1</td>\n",
       "    </tr>\n",
       "    <tr>\n",
       "      <th>7</th>\n",
       "      <td>19</td>\n",
       "      <td>FEMALE</td>\n",
       "      <td>9</td>\n",
       "      <td>SAUSAGE</td>\n",
       "      <td>False</td>\n",
       "      <td>False</td>\n",
       "      <td>0.38</td>\n",
       "      <td>2</td>\n",
       "      <td>3.0</td>\n",
       "      <td>10</td>\n",
       "      <td>0.60</td>\n",
       "      <td>5</td>\n",
       "      <td>3</td>\n",
       "      <td>PINEAPPLE</td>\n",
       "      <td>10</td>\n",
       "      <td>3</td>\n",
       "    </tr>\n",
       "    <tr>\n",
       "      <th>8</th>\n",
       "      <td>19</td>\n",
       "      <td>MALE</td>\n",
       "      <td>12</td>\n",
       "      <td>ONIONS</td>\n",
       "      <td>False</td>\n",
       "      <td>False</td>\n",
       "      <td>0.50</td>\n",
       "      <td>3</td>\n",
       "      <td>2.0</td>\n",
       "      <td>27</td>\n",
       "      <td>0.80</td>\n",
       "      <td>4</td>\n",
       "      <td>1</td>\n",
       "      <td>PINEAPPLE</td>\n",
       "      <td>7</td>\n",
       "      <td>1</td>\n",
       "    </tr>\n",
       "    <tr>\n",
       "      <th>9</th>\n",
       "      <td>19</td>\n",
       "      <td>FEMALE</td>\n",
       "      <td>9</td>\n",
       "      <td>OLIVES</td>\n",
       "      <td>False</td>\n",
       "      <td>False</td>\n",
       "      <td>0.53</td>\n",
       "      <td>2</td>\n",
       "      <td>1.0</td>\n",
       "      <td>16</td>\n",
       "      <td>0.72</td>\n",
       "      <td>4</td>\n",
       "      <td>4</td>\n",
       "      <td>PINEAPPLE</td>\n",
       "      <td>10</td>\n",
       "      <td>2</td>\n",
       "    </tr>\n",
       "    <tr>\n",
       "      <th>10</th>\n",
       "      <td>18</td>\n",
       "      <td>MALE</td>\n",
       "      <td>9</td>\n",
       "      <td>PEPPERONI</td>\n",
       "      <td>True</td>\n",
       "      <td>False</td>\n",
       "      <td>0.69</td>\n",
       "      <td>2</td>\n",
       "      <td>2.0</td>\n",
       "      <td>12</td>\n",
       "      <td>0.86</td>\n",
       "      <td>4</td>\n",
       "      <td>2</td>\n",
       "      <td>PINEAPPLE</td>\n",
       "      <td>9</td>\n",
       "      <td>2</td>\n",
       "    </tr>\n",
       "  </tbody>\n",
       "</table>\n",
       "</div>"
      ],
      "text/plain": [
       "    Age     Sex  yrs_eflexp favorite_topping_pre  pineapple  exp_pzmat  \\\n",
       "4    18    MALE          11        GREEN PEPPERS      False      False   \n",
       "5    19  FEMALE          13              CHICKEN       True      False   \n",
       "6    19    MALE          14                BACON       True      False   \n",
       "7    19  FEMALE           9              SAUSAGE      False      False   \n",
       "8    19    MALE          12               ONIONS      False      False   \n",
       "9    19  FEMALE           9               OLIVES      False      False   \n",
       "10   18    MALE           9            PEPPERONI       True      False   \n",
       "\n",
       "    score_pre  motivation_pre  confidence_pre  hrs_pzmat  score_post  \\\n",
       "4        0.56               1             1.0         18        0.78   \n",
       "5        0.42               2             2.0         16        0.66   \n",
       "6        0.79               2             3.0         22        0.89   \n",
       "7        0.38               2             3.0         10        0.60   \n",
       "8        0.50               3             2.0         27        0.80   \n",
       "9        0.53               2             1.0         16        0.72   \n",
       "10       0.69               2             2.0         12        0.86   \n",
       "\n",
       "    motivation_post  confidence_post favorite_topping_post  start_efl_year  \\\n",
       "4                 4                4             PINEAPPLE               7   \n",
       "5                 5                5             PINEAPPLE               6   \n",
       "6                 3                2             PINEAPPLE               5   \n",
       "7                 5                3             PINEAPPLE              10   \n",
       "8                 4                1             PINEAPPLE               7   \n",
       "9                 4                4             PINEAPPLE              10   \n",
       "10                4                2             PINEAPPLE               9   \n",
       "\n",
       "    motivation_change  \n",
       "4                   3  \n",
       "5                   3  \n",
       "6                   1  \n",
       "7                   3  \n",
       "8                   1  \n",
       "9                   2  \n",
       "10                  2  "
      ]
     },
     "execution_count": 89,
     "metadata": {},
     "output_type": "execute_result"
    }
   ],
   "source": [
    "df.loc[4:10] "
   ]
  },
  {
   "cell_type": "markdown",
   "id": "cbf2d798-6c64-4e65-a33f-c10418ff47dd",
   "metadata": {
    "slideshow": {
     "slide_type": "subslide"
    },
    "tags": []
   },
   "source": [
    "### Selecting a Slice\n",
    "We can select a slice of the table by indicating the index labels (like above) and a column name.\n",
    "\n",
    "![select rows by column](assets/select_rows_and_cols.svg)"
   ]
  },
  {
   "cell_type": "code",
   "execution_count": 90,
   "id": "289bdea5-9568-45f3-96b2-fd1c9c27baa7",
   "metadata": {
    "slideshow": {
     "slide_type": "subslide"
    },
    "tags": []
   },
   "outputs": [
    {
     "ename": "KeyError",
     "evalue": "'Name'",
     "output_type": "error",
     "traceback": [
      "\u001b[0;31m---------------------------------------------------------------------------\u001b[0m",
      "\u001b[0;31mKeyError\u001b[0m                                  Traceback (most recent call last)",
      "File \u001b[0;32m~/.pyenv/versions/3.11.0/lib/python3.11/site-packages/pandas/core/indexes/base.py:3802\u001b[0m, in \u001b[0;36mIndex.get_loc\u001b[0;34m(self, key, method, tolerance)\u001b[0m\n\u001b[1;32m   3801\u001b[0m \u001b[38;5;28;01mtry\u001b[39;00m:\n\u001b[0;32m-> 3802\u001b[0m     \u001b[38;5;28;01mreturn\u001b[39;00m \u001b[38;5;28;43mself\u001b[39;49m\u001b[38;5;241;43m.\u001b[39;49m\u001b[43m_engine\u001b[49m\u001b[38;5;241;43m.\u001b[39;49m\u001b[43mget_loc\u001b[49m\u001b[43m(\u001b[49m\u001b[43mcasted_key\u001b[49m\u001b[43m)\u001b[49m\n\u001b[1;32m   3803\u001b[0m \u001b[38;5;28;01mexcept\u001b[39;00m \u001b[38;5;167;01mKeyError\u001b[39;00m \u001b[38;5;28;01mas\u001b[39;00m err:\n",
      "File \u001b[0;32m~/.pyenv/versions/3.11.0/lib/python3.11/site-packages/pandas/_libs/index.pyx:138\u001b[0m, in \u001b[0;36mpandas._libs.index.IndexEngine.get_loc\u001b[0;34m()\u001b[0m\n",
      "File \u001b[0;32m~/.pyenv/versions/3.11.0/lib/python3.11/site-packages/pandas/_libs/index.pyx:165\u001b[0m, in \u001b[0;36mpandas._libs.index.IndexEngine.get_loc\u001b[0;34m()\u001b[0m\n",
      "File \u001b[0;32mpandas/_libs/hashtable_class_helper.pxi:5745\u001b[0m, in \u001b[0;36mpandas._libs.hashtable.PyObjectHashTable.get_item\u001b[0;34m()\u001b[0m\n",
      "File \u001b[0;32mpandas/_libs/hashtable_class_helper.pxi:5753\u001b[0m, in \u001b[0;36mpandas._libs.hashtable.PyObjectHashTable.get_item\u001b[0;34m()\u001b[0m\n",
      "\u001b[0;31mKeyError\u001b[0m: 'Name'",
      "\nThe above exception was the direct cause of the following exception:\n",
      "\u001b[0;31mKeyError\u001b[0m                                  Traceback (most recent call last)",
      "Cell \u001b[0;32mIn[90], line 1\u001b[0m\n\u001b[0;32m----> 1\u001b[0m \u001b[43mdf\u001b[49m\u001b[38;5;241;43m.\u001b[39;49m\u001b[43mloc\u001b[49m\u001b[43m[\u001b[49m\u001b[38;5;241;43m4\u001b[39;49m\u001b[43m:\u001b[49m\u001b[38;5;241;43m10\u001b[39;49m\u001b[43m,\u001b[49m\u001b[43m \u001b[49m\u001b[38;5;124;43m\"\u001b[39;49m\u001b[38;5;124;43mName\u001b[39;49m\u001b[38;5;124;43m\"\u001b[39;49m\u001b[43m]\u001b[49m \n\u001b[1;32m      2\u001b[0m \u001b[38;5;66;03m# note that you could provide more columns as a list.\u001b[39;00m\n",
      "File \u001b[0;32m~/.pyenv/versions/3.11.0/lib/python3.11/site-packages/pandas/core/indexing.py:1067\u001b[0m, in \u001b[0;36m_LocationIndexer.__getitem__\u001b[0;34m(self, key)\u001b[0m\n\u001b[1;32m   1065\u001b[0m     \u001b[38;5;28;01mif\u001b[39;00m \u001b[38;5;28mself\u001b[39m\u001b[38;5;241m.\u001b[39m_is_scalar_access(key):\n\u001b[1;32m   1066\u001b[0m         \u001b[38;5;28;01mreturn\u001b[39;00m \u001b[38;5;28mself\u001b[39m\u001b[38;5;241m.\u001b[39mobj\u001b[38;5;241m.\u001b[39m_get_value(\u001b[38;5;241m*\u001b[39mkey, takeable\u001b[38;5;241m=\u001b[39m\u001b[38;5;28mself\u001b[39m\u001b[38;5;241m.\u001b[39m_takeable)\n\u001b[0;32m-> 1067\u001b[0m     \u001b[38;5;28;01mreturn\u001b[39;00m \u001b[38;5;28;43mself\u001b[39;49m\u001b[38;5;241;43m.\u001b[39;49m\u001b[43m_getitem_tuple\u001b[49m\u001b[43m(\u001b[49m\u001b[43mkey\u001b[49m\u001b[43m)\u001b[49m\n\u001b[1;32m   1068\u001b[0m \u001b[38;5;28;01melse\u001b[39;00m:\n\u001b[1;32m   1069\u001b[0m     \u001b[38;5;66;03m# we by definition only have the 0th axis\u001b[39;00m\n\u001b[1;32m   1070\u001b[0m     axis \u001b[38;5;241m=\u001b[39m \u001b[38;5;28mself\u001b[39m\u001b[38;5;241m.\u001b[39maxis \u001b[38;5;129;01mor\u001b[39;00m \u001b[38;5;241m0\u001b[39m\n",
      "File \u001b[0;32m~/.pyenv/versions/3.11.0/lib/python3.11/site-packages/pandas/core/indexing.py:1247\u001b[0m, in \u001b[0;36m_LocIndexer._getitem_tuple\u001b[0;34m(self, tup)\u001b[0m\n\u001b[1;32m   1245\u001b[0m \u001b[38;5;28;01mwith\u001b[39;00m suppress(IndexingError):\n\u001b[1;32m   1246\u001b[0m     tup \u001b[38;5;241m=\u001b[39m \u001b[38;5;28mself\u001b[39m\u001b[38;5;241m.\u001b[39m_expand_ellipsis(tup)\n\u001b[0;32m-> 1247\u001b[0m     \u001b[38;5;28;01mreturn\u001b[39;00m \u001b[38;5;28;43mself\u001b[39;49m\u001b[38;5;241;43m.\u001b[39;49m\u001b[43m_getitem_lowerdim\u001b[49m\u001b[43m(\u001b[49m\u001b[43mtup\u001b[49m\u001b[43m)\u001b[49m\n\u001b[1;32m   1249\u001b[0m \u001b[38;5;66;03m# no multi-index, so validate all of the indexers\u001b[39;00m\n\u001b[1;32m   1250\u001b[0m tup \u001b[38;5;241m=\u001b[39m \u001b[38;5;28mself\u001b[39m\u001b[38;5;241m.\u001b[39m_validate_tuple_indexer(tup)\n",
      "File \u001b[0;32m~/.pyenv/versions/3.11.0/lib/python3.11/site-packages/pandas/core/indexing.py:967\u001b[0m, in \u001b[0;36m_LocationIndexer._getitem_lowerdim\u001b[0;34m(self, tup)\u001b[0m\n\u001b[1;32m    963\u001b[0m \u001b[38;5;28;01mfor\u001b[39;00m i, key \u001b[38;5;129;01min\u001b[39;00m \u001b[38;5;28menumerate\u001b[39m(tup):\n\u001b[1;32m    964\u001b[0m     \u001b[38;5;28;01mif\u001b[39;00m is_label_like(key):\n\u001b[1;32m    965\u001b[0m         \u001b[38;5;66;03m# We don't need to check for tuples here because those are\u001b[39;00m\n\u001b[1;32m    966\u001b[0m         \u001b[38;5;66;03m#  caught by the _is_nested_tuple_indexer check above.\u001b[39;00m\n\u001b[0;32m--> 967\u001b[0m         section \u001b[38;5;241m=\u001b[39m \u001b[38;5;28;43mself\u001b[39;49m\u001b[38;5;241;43m.\u001b[39;49m\u001b[43m_getitem_axis\u001b[49m\u001b[43m(\u001b[49m\u001b[43mkey\u001b[49m\u001b[43m,\u001b[49m\u001b[43m \u001b[49m\u001b[43maxis\u001b[49m\u001b[38;5;241;43m=\u001b[39;49m\u001b[43mi\u001b[49m\u001b[43m)\u001b[49m\n\u001b[1;32m    969\u001b[0m         \u001b[38;5;66;03m# We should never have a scalar section here, because\u001b[39;00m\n\u001b[1;32m    970\u001b[0m         \u001b[38;5;66;03m#  _getitem_lowerdim is only called after a check for\u001b[39;00m\n\u001b[1;32m    971\u001b[0m         \u001b[38;5;66;03m#  is_scalar_access, which that would be.\u001b[39;00m\n\u001b[1;32m    972\u001b[0m         \u001b[38;5;28;01mif\u001b[39;00m section\u001b[38;5;241m.\u001b[39mndim \u001b[38;5;241m==\u001b[39m \u001b[38;5;28mself\u001b[39m\u001b[38;5;241m.\u001b[39mndim:\n\u001b[1;32m    973\u001b[0m             \u001b[38;5;66;03m# we're in the middle of slicing through a MultiIndex\u001b[39;00m\n\u001b[1;32m    974\u001b[0m             \u001b[38;5;66;03m# revise the key wrt to `section` by inserting an _NS\u001b[39;00m\n",
      "File \u001b[0;32m~/.pyenv/versions/3.11.0/lib/python3.11/site-packages/pandas/core/indexing.py:1312\u001b[0m, in \u001b[0;36m_LocIndexer._getitem_axis\u001b[0;34m(self, key, axis)\u001b[0m\n\u001b[1;32m   1310\u001b[0m \u001b[38;5;66;03m# fall thru to straight lookup\u001b[39;00m\n\u001b[1;32m   1311\u001b[0m \u001b[38;5;28mself\u001b[39m\u001b[38;5;241m.\u001b[39m_validate_key(key, axis)\n\u001b[0;32m-> 1312\u001b[0m \u001b[38;5;28;01mreturn\u001b[39;00m \u001b[38;5;28;43mself\u001b[39;49m\u001b[38;5;241;43m.\u001b[39;49m\u001b[43m_get_label\u001b[49m\u001b[43m(\u001b[49m\u001b[43mkey\u001b[49m\u001b[43m,\u001b[49m\u001b[43m \u001b[49m\u001b[43maxis\u001b[49m\u001b[38;5;241;43m=\u001b[39;49m\u001b[43maxis\u001b[49m\u001b[43m)\u001b[49m\n",
      "File \u001b[0;32m~/.pyenv/versions/3.11.0/lib/python3.11/site-packages/pandas/core/indexing.py:1260\u001b[0m, in \u001b[0;36m_LocIndexer._get_label\u001b[0;34m(self, label, axis)\u001b[0m\n\u001b[1;32m   1258\u001b[0m \u001b[38;5;28;01mdef\u001b[39;00m \u001b[38;5;21m_get_label\u001b[39m(\u001b[38;5;28mself\u001b[39m, label, axis: \u001b[38;5;28mint\u001b[39m):\n\u001b[1;32m   1259\u001b[0m     \u001b[38;5;66;03m# GH#5567 this will fail if the label is not present in the axis.\u001b[39;00m\n\u001b[0;32m-> 1260\u001b[0m     \u001b[38;5;28;01mreturn\u001b[39;00m \u001b[38;5;28;43mself\u001b[39;49m\u001b[38;5;241;43m.\u001b[39;49m\u001b[43mobj\u001b[49m\u001b[38;5;241;43m.\u001b[39;49m\u001b[43mxs\u001b[49m\u001b[43m(\u001b[49m\u001b[43mlabel\u001b[49m\u001b[43m,\u001b[49m\u001b[43m \u001b[49m\u001b[43maxis\u001b[49m\u001b[38;5;241;43m=\u001b[39;49m\u001b[43maxis\u001b[49m\u001b[43m)\u001b[49m\n",
      "File \u001b[0;32m~/.pyenv/versions/3.11.0/lib/python3.11/site-packages/pandas/core/generic.py:4041\u001b[0m, in \u001b[0;36mNDFrame.xs\u001b[0;34m(self, key, axis, level, drop_level)\u001b[0m\n\u001b[1;32m   4039\u001b[0m \u001b[38;5;28;01mif\u001b[39;00m axis \u001b[38;5;241m==\u001b[39m \u001b[38;5;241m1\u001b[39m:\n\u001b[1;32m   4040\u001b[0m     \u001b[38;5;28;01mif\u001b[39;00m drop_level:\n\u001b[0;32m-> 4041\u001b[0m         \u001b[38;5;28;01mreturn\u001b[39;00m \u001b[38;5;28;43mself\u001b[39;49m\u001b[43m[\u001b[49m\u001b[43mkey\u001b[49m\u001b[43m]\u001b[49m\n\u001b[1;32m   4042\u001b[0m     index \u001b[38;5;241m=\u001b[39m \u001b[38;5;28mself\u001b[39m\u001b[38;5;241m.\u001b[39mcolumns\n\u001b[1;32m   4043\u001b[0m \u001b[38;5;28;01melse\u001b[39;00m:\n",
      "File \u001b[0;32m~/.pyenv/versions/3.11.0/lib/python3.11/site-packages/pandas/core/frame.py:3807\u001b[0m, in \u001b[0;36mDataFrame.__getitem__\u001b[0;34m(self, key)\u001b[0m\n\u001b[1;32m   3805\u001b[0m \u001b[38;5;28;01mif\u001b[39;00m \u001b[38;5;28mself\u001b[39m\u001b[38;5;241m.\u001b[39mcolumns\u001b[38;5;241m.\u001b[39mnlevels \u001b[38;5;241m>\u001b[39m \u001b[38;5;241m1\u001b[39m:\n\u001b[1;32m   3806\u001b[0m     \u001b[38;5;28;01mreturn\u001b[39;00m \u001b[38;5;28mself\u001b[39m\u001b[38;5;241m.\u001b[39m_getitem_multilevel(key)\n\u001b[0;32m-> 3807\u001b[0m indexer \u001b[38;5;241m=\u001b[39m \u001b[38;5;28;43mself\u001b[39;49m\u001b[38;5;241;43m.\u001b[39;49m\u001b[43mcolumns\u001b[49m\u001b[38;5;241;43m.\u001b[39;49m\u001b[43mget_loc\u001b[49m\u001b[43m(\u001b[49m\u001b[43mkey\u001b[49m\u001b[43m)\u001b[49m\n\u001b[1;32m   3808\u001b[0m \u001b[38;5;28;01mif\u001b[39;00m is_integer(indexer):\n\u001b[1;32m   3809\u001b[0m     indexer \u001b[38;5;241m=\u001b[39m [indexer]\n",
      "File \u001b[0;32m~/.pyenv/versions/3.11.0/lib/python3.11/site-packages/pandas/core/indexes/base.py:3804\u001b[0m, in \u001b[0;36mIndex.get_loc\u001b[0;34m(self, key, method, tolerance)\u001b[0m\n\u001b[1;32m   3802\u001b[0m     \u001b[38;5;28;01mreturn\u001b[39;00m \u001b[38;5;28mself\u001b[39m\u001b[38;5;241m.\u001b[39m_engine\u001b[38;5;241m.\u001b[39mget_loc(casted_key)\n\u001b[1;32m   3803\u001b[0m \u001b[38;5;28;01mexcept\u001b[39;00m \u001b[38;5;167;01mKeyError\u001b[39;00m \u001b[38;5;28;01mas\u001b[39;00m err:\n\u001b[0;32m-> 3804\u001b[0m     \u001b[38;5;28;01mraise\u001b[39;00m \u001b[38;5;167;01mKeyError\u001b[39;00m(key) \u001b[38;5;28;01mfrom\u001b[39;00m \u001b[38;5;21;01merr\u001b[39;00m\n\u001b[1;32m   3805\u001b[0m \u001b[38;5;28;01mexcept\u001b[39;00m \u001b[38;5;167;01mTypeError\u001b[39;00m:\n\u001b[1;32m   3806\u001b[0m     \u001b[38;5;66;03m# If we have a listlike key, _check_indexing_error will raise\u001b[39;00m\n\u001b[1;32m   3807\u001b[0m     \u001b[38;5;66;03m#  InvalidIndexError. Otherwise we fall through and re-raise\u001b[39;00m\n\u001b[1;32m   3808\u001b[0m     \u001b[38;5;66;03m#  the TypeError.\u001b[39;00m\n\u001b[1;32m   3809\u001b[0m     \u001b[38;5;28mself\u001b[39m\u001b[38;5;241m.\u001b[39m_check_indexing_error(key)\n",
      "\u001b[0;31mKeyError\u001b[0m: 'Name'"
     ]
    }
   ],
   "source": [
    "df.loc[4:10, \"Name\"] \n",
    "# note that you could provide more columns as a list."
   ]
  },
  {
   "cell_type": "markdown",
   "id": "12faa29f-5663-4121-a5d2-a8450b792e15",
   "metadata": {
    "slideshow": {
     "slide_type": "subslide"
    },
    "tags": []
   },
   "source": [
    "## Applying a Mask (Filtering)"
   ]
  },
  {
   "cell_type": "markdown",
   "id": "9a291ddb-313e-448c-ba4c-e1fdcc753545",
   "metadata": {
    "slideshow": {
     "slide_type": "skip"
    },
    "tags": []
   },
   "source": [
    "What if we want to select rows from the dataframe that match a certain criteria? This is a filtering process, or what might be referred to as **applying a mask**. In the pandas documentation this is referred to as *boolean indexing*.\n",
    "\n",
    "A mask is actually **Series** that contains only boolean (True/False) values. Here's a diagram showing how a mask is made:"
   ]
  },
  {
   "cell_type": "markdown",
   "id": "2c73868c-7746-4d57-acc4-863c5e80073f",
   "metadata": {
    "slideshow": {
     "slide_type": "fragment"
    },
    "tags": []
   },
   "source": [
    "![making a mask](assets/example_mask.svg)"
   ]
  },
  {
   "cell_type": "markdown",
   "id": "1614d04e-a2e2-4851-8e62-29b00bb91909",
   "metadata": {
    "slideshow": {
     "slide_type": "skip"
    },
    "tags": []
   },
   "source": [
    "It's possible to combine multiple criteria together in order to make a mask, but let's start with something simple. The code below is the basic method for making a mask. We're not assigning it to a variable so that we can see what it does. "
   ]
  },
  {
   "cell_type": "code",
   "execution_count": 17,
   "id": "b46ea689-037a-453f-b61b-749eb156f111",
   "metadata": {
    "slideshow": {
     "slide_type": "skip"
    },
    "tags": []
   },
   "outputs": [
    {
     "data": {
      "text/plain": [
       "0     False\n",
       "1     False\n",
       "2     False\n",
       "3     False\n",
       "4     False\n",
       "      ...  \n",
       "67    False\n",
       "68    False\n",
       "69    False\n",
       "70    False\n",
       "71    False\n",
       "Name: favorite_topping_pre, Length: 72, dtype: bool"
      ]
     },
     "execution_count": 17,
     "metadata": {},
     "output_type": "execute_result"
    }
   ],
   "source": [
    "# \"Show us whether or not the values in the 'favorite_topping_pre' column are equal to 'Pineapple'\"\n",
    "df[\"favorite_topping_pre\"] == \"Pineapple\""
   ]
  },
  {
   "cell_type": "markdown",
   "id": "007dcd73-5f73-4d52-ad91-ccf60df51d42",
   "metadata": {
    "slideshow": {
     "slide_type": "skip"
    },
    "tags": []
   },
   "source": [
    "We get a **Series** of `True` / `False` values.  If the value is `True` that means the corresponding row had a participant that indicated they really like pineapple in the pre-material survey.\n",
    "\n",
    "We use these boolean Series *a lot* in pandas. When we use them as a mask, pandas checks if the row meets the condition (`True` is a match). Let's see how that works in a diagram:"
   ]
  },
  {
   "cell_type": "markdown",
   "id": "da9a2974-69af-4516-b290-1df7f11a2b97",
   "metadata": {
    "slideshow": {
     "slide_type": "skip"
    },
    "tags": []
   },
   "source": [
    "![applying a mask](assets/example_applying_mask.svg)"
   ]
  },
  {
   "cell_type": "markdown",
   "id": "37879ada-59d2-4589-a015-0bd860c0c105",
   "metadata": {
    "slideshow": {
     "slide_type": "skip"
    },
    "tags": []
   },
   "source": [
    "Let's try it out. In the example below, we first make a mask and then apply it to the dataframe."
   ]
  },
  {
   "cell_type": "code",
   "execution_count": 91,
   "id": "85ee535d-860d-4622-b23a-cf92869d6c5a",
   "metadata": {
    "slideshow": {
     "slide_type": "subslide"
    },
    "tags": []
   },
   "outputs": [
    {
     "data": {
      "text/html": [
       "<div>\n",
       "<style scoped>\n",
       "    .dataframe tbody tr th:only-of-type {\n",
       "        vertical-align: middle;\n",
       "    }\n",
       "\n",
       "    .dataframe tbody tr th {\n",
       "        vertical-align: top;\n",
       "    }\n",
       "\n",
       "    .dataframe thead th {\n",
       "        text-align: right;\n",
       "    }\n",
       "</style>\n",
       "<table border=\"1\" class=\"dataframe\">\n",
       "  <thead>\n",
       "    <tr style=\"text-align: right;\">\n",
       "      <th></th>\n",
       "      <th>Age</th>\n",
       "      <th>Sex</th>\n",
       "      <th>yrs_eflexp</th>\n",
       "      <th>favorite_topping_pre</th>\n",
       "      <th>pineapple</th>\n",
       "      <th>exp_pzmat</th>\n",
       "      <th>score_pre</th>\n",
       "      <th>motivation_pre</th>\n",
       "      <th>confidence_pre</th>\n",
       "      <th>hrs_pzmat</th>\n",
       "      <th>score_post</th>\n",
       "      <th>motivation_post</th>\n",
       "      <th>confidence_post</th>\n",
       "      <th>favorite_topping_post</th>\n",
       "      <th>start_efl_year</th>\n",
       "      <th>motivation_change</th>\n",
       "    </tr>\n",
       "  </thead>\n",
       "  <tbody>\n",
       "  </tbody>\n",
       "</table>\n",
       "</div>"
      ],
      "text/plain": [
       "Empty DataFrame\n",
       "Columns: [Age, Sex, yrs_eflexp, favorite_topping_pre, pineapple, exp_pzmat, score_pre, motivation_pre, confidence_pre, hrs_pzmat, score_post, motivation_post, confidence_post, favorite_topping_post, start_efl_year, motivation_change]\n",
       "Index: []"
      ]
     },
     "execution_count": 91,
     "metadata": {},
     "output_type": "execute_result"
    }
   ],
   "source": [
    "# Make a mask\n",
    "mask = df[\"favorite_topping_pre\"] == \"Pineapple\"\n",
    "\n",
    "# Apply the mask (only shows where the mask is 'True')\n",
    "df[mask]"
   ]
  },
  {
   "cell_type": "markdown",
   "id": "ded260c9-1eaa-4fcf-820b-5abf8c7b987d",
   "metadata": {
    "slideshow": {
     "slide_type": "skip"
    },
    "tags": []
   },
   "source": [
    "## Making or Overwriting Columns\n",
    "\n",
    "Making or overwriting columns uses the same approach and if the column doesn't exist a new one will be made.\n",
    "\n",
    "Let's try making a new column called `start_efl_year`. This will be the difference of `Age` and `yrs_eflexp`. If you're familiar with a spreadsheet program, the process to do this might be to type equal (`=`), select a cell from one column, type minus (`-`), select a cell from another column, then do a fill down. \n",
    "\n",
    "In pandas, this kind of process is greatly simplified:"
   ]
  },
  {
   "cell_type": "code",
   "execution_count": 92,
   "id": "380b936e-c7bc-4c50-96d6-e1f76dfbe0c6",
   "metadata": {
    "slideshow": {
     "slide_type": "skip"
    },
    "tags": []
   },
   "outputs": [],
   "source": [
    "# Make a new column 'start_efl_year'\n",
    "# In some sense, you can imagine that this is going through row by row and doing the substraction\n",
    "# and the new value is being placed in the new column.\n",
    "df[\"start_efl_year\"] = df[\"Age\"] - df[\"yrs_eflexp\"]\n"
   ]
  },
  {
   "cell_type": "markdown",
   "id": "1db2d704-82e5-4a39-b12f-9fd4f809909f",
   "metadata": {
    "slideshow": {
     "slide_type": "skip"
    },
    "tags": []
   },
   "source": [
    "## Removing Columns\n",
    "\n",
    "There are a few columns that we do not need for our analysis. We use the `drop()` method to delete columns:"
   ]
  },
  {
   "cell_type": "code",
   "execution_count": 93,
   "id": "084ad1c0-7278-4bb9-9865-55d619790db4",
   "metadata": {
    "slideshow": {
     "slide_type": "skip"
    },
    "tags": []
   },
   "outputs": [
    {
     "ename": "KeyError",
     "evalue": "\"['ID Number', 'Name', 'Last Name'] not found in axis\"",
     "output_type": "error",
     "traceback": [
      "\u001b[0;31m---------------------------------------------------------------------------\u001b[0m",
      "\u001b[0;31mKeyError\u001b[0m                                  Traceback (most recent call last)",
      "Cell \u001b[0;32mIn[93], line 2\u001b[0m\n\u001b[1;32m      1\u001b[0m columns_to_drop \u001b[38;5;241m=\u001b[39m [\u001b[38;5;124m\"\u001b[39m\u001b[38;5;124mID Number\u001b[39m\u001b[38;5;124m\"\u001b[39m, \u001b[38;5;124m\"\u001b[39m\u001b[38;5;124mName\u001b[39m\u001b[38;5;124m\"\u001b[39m, \u001b[38;5;124m\"\u001b[39m\u001b[38;5;124mLast Name\u001b[39m\u001b[38;5;124m\"\u001b[39m] \u001b[38;5;66;03m# a list of column names\u001b[39;00m\n\u001b[0;32m----> 2\u001b[0m df \u001b[38;5;241m=\u001b[39m \u001b[43mdf\u001b[49m\u001b[38;5;241;43m.\u001b[39;49m\u001b[43mdrop\u001b[49m\u001b[43m(\u001b[49m\u001b[43mcolumns_to_drop\u001b[49m\u001b[43m,\u001b[49m\u001b[43m \u001b[49m\u001b[43maxis\u001b[49m\u001b[38;5;241;43m=\u001b[39;49m\u001b[38;5;241;43m1\u001b[39;49m\u001b[43m)\u001b[49m \u001b[38;5;66;03m# axis 1 means \"column\"\u001b[39;00m\n",
      "File \u001b[0;32m~/.pyenv/versions/3.11.0/lib/python3.11/site-packages/pandas/util/_decorators.py:331\u001b[0m, in \u001b[0;36mdeprecate_nonkeyword_arguments.<locals>.decorate.<locals>.wrapper\u001b[0;34m(*args, **kwargs)\u001b[0m\n\u001b[1;32m    325\u001b[0m \u001b[38;5;28;01mif\u001b[39;00m \u001b[38;5;28mlen\u001b[39m(args) \u001b[38;5;241m>\u001b[39m num_allow_args:\n\u001b[1;32m    326\u001b[0m     warnings\u001b[38;5;241m.\u001b[39mwarn(\n\u001b[1;32m    327\u001b[0m         msg\u001b[38;5;241m.\u001b[39mformat(arguments\u001b[38;5;241m=\u001b[39m_format_argument_list(allow_args)),\n\u001b[1;32m    328\u001b[0m         \u001b[38;5;167;01mFutureWarning\u001b[39;00m,\n\u001b[1;32m    329\u001b[0m         stacklevel\u001b[38;5;241m=\u001b[39mfind_stack_level(),\n\u001b[1;32m    330\u001b[0m     )\n\u001b[0;32m--> 331\u001b[0m \u001b[38;5;28;01mreturn\u001b[39;00m \u001b[43mfunc\u001b[49m\u001b[43m(\u001b[49m\u001b[38;5;241;43m*\u001b[39;49m\u001b[43margs\u001b[49m\u001b[43m,\u001b[49m\u001b[43m \u001b[49m\u001b[38;5;241;43m*\u001b[39;49m\u001b[38;5;241;43m*\u001b[39;49m\u001b[43mkwargs\u001b[49m\u001b[43m)\u001b[49m\n",
      "File \u001b[0;32m~/.pyenv/versions/3.11.0/lib/python3.11/site-packages/pandas/core/frame.py:5399\u001b[0m, in \u001b[0;36mDataFrame.drop\u001b[0;34m(self, labels, axis, index, columns, level, inplace, errors)\u001b[0m\n\u001b[1;32m   5251\u001b[0m \u001b[38;5;129m@deprecate_nonkeyword_arguments\u001b[39m(version\u001b[38;5;241m=\u001b[39m\u001b[38;5;28;01mNone\u001b[39;00m, allowed_args\u001b[38;5;241m=\u001b[39m[\u001b[38;5;124m\"\u001b[39m\u001b[38;5;124mself\u001b[39m\u001b[38;5;124m\"\u001b[39m, \u001b[38;5;124m\"\u001b[39m\u001b[38;5;124mlabels\u001b[39m\u001b[38;5;124m\"\u001b[39m])\n\u001b[1;32m   5252\u001b[0m \u001b[38;5;28;01mdef\u001b[39;00m \u001b[38;5;21mdrop\u001b[39m(  \u001b[38;5;66;03m# type: ignore[override]\u001b[39;00m\n\u001b[1;32m   5253\u001b[0m     \u001b[38;5;28mself\u001b[39m,\n\u001b[0;32m   (...)\u001b[0m\n\u001b[1;32m   5260\u001b[0m     errors: IgnoreRaise \u001b[38;5;241m=\u001b[39m \u001b[38;5;124m\"\u001b[39m\u001b[38;5;124mraise\u001b[39m\u001b[38;5;124m\"\u001b[39m,\n\u001b[1;32m   5261\u001b[0m ) \u001b[38;5;241m-\u001b[39m\u001b[38;5;241m>\u001b[39m DataFrame \u001b[38;5;241m|\u001b[39m \u001b[38;5;28;01mNone\u001b[39;00m:\n\u001b[1;32m   5262\u001b[0m     \u001b[38;5;124;03m\"\"\"\u001b[39;00m\n\u001b[1;32m   5263\u001b[0m \u001b[38;5;124;03m    Drop specified labels from rows or columns.\u001b[39;00m\n\u001b[1;32m   5264\u001b[0m \n\u001b[0;32m   (...)\u001b[0m\n\u001b[1;32m   5397\u001b[0m \u001b[38;5;124;03m            weight  1.0     0.8\u001b[39;00m\n\u001b[1;32m   5398\u001b[0m \u001b[38;5;124;03m    \"\"\"\u001b[39;00m\n\u001b[0;32m-> 5399\u001b[0m     \u001b[38;5;28;01mreturn\u001b[39;00m \u001b[38;5;28;43msuper\u001b[39;49m\u001b[43m(\u001b[49m\u001b[43m)\u001b[49m\u001b[38;5;241;43m.\u001b[39;49m\u001b[43mdrop\u001b[49m\u001b[43m(\u001b[49m\n\u001b[1;32m   5400\u001b[0m \u001b[43m        \u001b[49m\u001b[43mlabels\u001b[49m\u001b[38;5;241;43m=\u001b[39;49m\u001b[43mlabels\u001b[49m\u001b[43m,\u001b[49m\n\u001b[1;32m   5401\u001b[0m \u001b[43m        \u001b[49m\u001b[43maxis\u001b[49m\u001b[38;5;241;43m=\u001b[39;49m\u001b[43maxis\u001b[49m\u001b[43m,\u001b[49m\n\u001b[1;32m   5402\u001b[0m \u001b[43m        \u001b[49m\u001b[43mindex\u001b[49m\u001b[38;5;241;43m=\u001b[39;49m\u001b[43mindex\u001b[49m\u001b[43m,\u001b[49m\n\u001b[1;32m   5403\u001b[0m \u001b[43m        \u001b[49m\u001b[43mcolumns\u001b[49m\u001b[38;5;241;43m=\u001b[39;49m\u001b[43mcolumns\u001b[49m\u001b[43m,\u001b[49m\n\u001b[1;32m   5404\u001b[0m \u001b[43m        \u001b[49m\u001b[43mlevel\u001b[49m\u001b[38;5;241;43m=\u001b[39;49m\u001b[43mlevel\u001b[49m\u001b[43m,\u001b[49m\n\u001b[1;32m   5405\u001b[0m \u001b[43m        \u001b[49m\u001b[43minplace\u001b[49m\u001b[38;5;241;43m=\u001b[39;49m\u001b[43minplace\u001b[49m\u001b[43m,\u001b[49m\n\u001b[1;32m   5406\u001b[0m \u001b[43m        \u001b[49m\u001b[43merrors\u001b[49m\u001b[38;5;241;43m=\u001b[39;49m\u001b[43merrors\u001b[49m\u001b[43m,\u001b[49m\n\u001b[1;32m   5407\u001b[0m \u001b[43m    \u001b[49m\u001b[43m)\u001b[49m\n",
      "File \u001b[0;32m~/.pyenv/versions/3.11.0/lib/python3.11/site-packages/pandas/util/_decorators.py:331\u001b[0m, in \u001b[0;36mdeprecate_nonkeyword_arguments.<locals>.decorate.<locals>.wrapper\u001b[0;34m(*args, **kwargs)\u001b[0m\n\u001b[1;32m    325\u001b[0m \u001b[38;5;28;01mif\u001b[39;00m \u001b[38;5;28mlen\u001b[39m(args) \u001b[38;5;241m>\u001b[39m num_allow_args:\n\u001b[1;32m    326\u001b[0m     warnings\u001b[38;5;241m.\u001b[39mwarn(\n\u001b[1;32m    327\u001b[0m         msg\u001b[38;5;241m.\u001b[39mformat(arguments\u001b[38;5;241m=\u001b[39m_format_argument_list(allow_args)),\n\u001b[1;32m    328\u001b[0m         \u001b[38;5;167;01mFutureWarning\u001b[39;00m,\n\u001b[1;32m    329\u001b[0m         stacklevel\u001b[38;5;241m=\u001b[39mfind_stack_level(),\n\u001b[1;32m    330\u001b[0m     )\n\u001b[0;32m--> 331\u001b[0m \u001b[38;5;28;01mreturn\u001b[39;00m \u001b[43mfunc\u001b[49m\u001b[43m(\u001b[49m\u001b[38;5;241;43m*\u001b[39;49m\u001b[43margs\u001b[49m\u001b[43m,\u001b[49m\u001b[43m \u001b[49m\u001b[38;5;241;43m*\u001b[39;49m\u001b[38;5;241;43m*\u001b[39;49m\u001b[43mkwargs\u001b[49m\u001b[43m)\u001b[49m\n",
      "File \u001b[0;32m~/.pyenv/versions/3.11.0/lib/python3.11/site-packages/pandas/core/generic.py:4505\u001b[0m, in \u001b[0;36mNDFrame.drop\u001b[0;34m(self, labels, axis, index, columns, level, inplace, errors)\u001b[0m\n\u001b[1;32m   4503\u001b[0m \u001b[38;5;28;01mfor\u001b[39;00m axis, labels \u001b[38;5;129;01min\u001b[39;00m axes\u001b[38;5;241m.\u001b[39mitems():\n\u001b[1;32m   4504\u001b[0m     \u001b[38;5;28;01mif\u001b[39;00m labels \u001b[38;5;129;01mis\u001b[39;00m \u001b[38;5;129;01mnot\u001b[39;00m \u001b[38;5;28;01mNone\u001b[39;00m:\n\u001b[0;32m-> 4505\u001b[0m         obj \u001b[38;5;241m=\u001b[39m \u001b[43mobj\u001b[49m\u001b[38;5;241;43m.\u001b[39;49m\u001b[43m_drop_axis\u001b[49m\u001b[43m(\u001b[49m\u001b[43mlabels\u001b[49m\u001b[43m,\u001b[49m\u001b[43m \u001b[49m\u001b[43maxis\u001b[49m\u001b[43m,\u001b[49m\u001b[43m \u001b[49m\u001b[43mlevel\u001b[49m\u001b[38;5;241;43m=\u001b[39;49m\u001b[43mlevel\u001b[49m\u001b[43m,\u001b[49m\u001b[43m \u001b[49m\u001b[43merrors\u001b[49m\u001b[38;5;241;43m=\u001b[39;49m\u001b[43merrors\u001b[49m\u001b[43m)\u001b[49m\n\u001b[1;32m   4507\u001b[0m \u001b[38;5;28;01mif\u001b[39;00m inplace:\n\u001b[1;32m   4508\u001b[0m     \u001b[38;5;28mself\u001b[39m\u001b[38;5;241m.\u001b[39m_update_inplace(obj)\n",
      "File \u001b[0;32m~/.pyenv/versions/3.11.0/lib/python3.11/site-packages/pandas/core/generic.py:4546\u001b[0m, in \u001b[0;36mNDFrame._drop_axis\u001b[0;34m(self, labels, axis, level, errors, only_slice)\u001b[0m\n\u001b[1;32m   4544\u001b[0m         new_axis \u001b[38;5;241m=\u001b[39m axis\u001b[38;5;241m.\u001b[39mdrop(labels, level\u001b[38;5;241m=\u001b[39mlevel, errors\u001b[38;5;241m=\u001b[39merrors)\n\u001b[1;32m   4545\u001b[0m     \u001b[38;5;28;01melse\u001b[39;00m:\n\u001b[0;32m-> 4546\u001b[0m         new_axis \u001b[38;5;241m=\u001b[39m \u001b[43maxis\u001b[49m\u001b[38;5;241;43m.\u001b[39;49m\u001b[43mdrop\u001b[49m\u001b[43m(\u001b[49m\u001b[43mlabels\u001b[49m\u001b[43m,\u001b[49m\u001b[43m \u001b[49m\u001b[43merrors\u001b[49m\u001b[38;5;241;43m=\u001b[39;49m\u001b[43merrors\u001b[49m\u001b[43m)\u001b[49m\n\u001b[1;32m   4547\u001b[0m     indexer \u001b[38;5;241m=\u001b[39m axis\u001b[38;5;241m.\u001b[39mget_indexer(new_axis)\n\u001b[1;32m   4549\u001b[0m \u001b[38;5;66;03m# Case for non-unique axis\u001b[39;00m\n\u001b[1;32m   4550\u001b[0m \u001b[38;5;28;01melse\u001b[39;00m:\n",
      "File \u001b[0;32m~/.pyenv/versions/3.11.0/lib/python3.11/site-packages/pandas/core/indexes/base.py:6934\u001b[0m, in \u001b[0;36mIndex.drop\u001b[0;34m(self, labels, errors)\u001b[0m\n\u001b[1;32m   6932\u001b[0m \u001b[38;5;28;01mif\u001b[39;00m mask\u001b[38;5;241m.\u001b[39many():\n\u001b[1;32m   6933\u001b[0m     \u001b[38;5;28;01mif\u001b[39;00m errors \u001b[38;5;241m!=\u001b[39m \u001b[38;5;124m\"\u001b[39m\u001b[38;5;124mignore\u001b[39m\u001b[38;5;124m\"\u001b[39m:\n\u001b[0;32m-> 6934\u001b[0m         \u001b[38;5;28;01mraise\u001b[39;00m \u001b[38;5;167;01mKeyError\u001b[39;00m(\u001b[38;5;124mf\u001b[39m\u001b[38;5;124m\"\u001b[39m\u001b[38;5;132;01m{\u001b[39;00m\u001b[38;5;28mlist\u001b[39m(labels[mask])\u001b[38;5;132;01m}\u001b[39;00m\u001b[38;5;124m not found in axis\u001b[39m\u001b[38;5;124m\"\u001b[39m)\n\u001b[1;32m   6935\u001b[0m     indexer \u001b[38;5;241m=\u001b[39m indexer[\u001b[38;5;241m~\u001b[39mmask]\n\u001b[1;32m   6936\u001b[0m \u001b[38;5;28;01mreturn\u001b[39;00m \u001b[38;5;28mself\u001b[39m\u001b[38;5;241m.\u001b[39mdelete(indexer)\n",
      "\u001b[0;31mKeyError\u001b[0m: \"['ID Number', 'Name', 'Last Name'] not found in axis\""
     ]
    }
   ],
   "source": [
    "columns_to_drop = [\"ID Number\", \"Name\", \"Last Name\"] # a list of column names\n",
    "df = df.drop(columns_to_drop, axis=1) # axis 1 means \"column\""
   ]
  },
  {
   "cell_type": "markdown",
   "id": "e14c86ea-0f3a-4055-9213-acc8471b99f6",
   "metadata": {
    "slideshow": {
     "slide_type": "skip"
    },
    "tags": []
   },
   "source": [
    "## Exporting a Dataframe\n",
    "\n",
    "If you need to save your dataframe to a file, you can do that anytime. There are a number of conversion formats (18, actually) including CSV, TSV, and Excel. Here's how to save it as a CSV file:"
   ]
  },
  {
   "cell_type": "code",
   "execution_count": 21,
   "id": "a2560de1-52e8-4b4c-b5d6-e513d38bab55",
   "metadata": {
    "slideshow": {
     "slide_type": "skip"
    },
    "tags": []
   },
   "outputs": [],
   "source": [
    "df.to_csv(\"pzmat_data_merged.csv\", index=False) # we don't want the index"
   ]
  },
  {
   "cell_type": "markdown",
   "id": "97bb0085-4fdc-4470-9403-d8392607f655",
   "metadata": {
    "slideshow": {
     "slide_type": "slide"
    },
    "tags": []
   },
   "source": [
    "# Data Cleaning"
   ]
  },
  {
   "cell_type": "markdown",
   "id": "7438b392-768b-4664-a665-7a7cb86a0591",
   "metadata": {
    "slideshow": {
     "slide_type": "skip"
    },
    "tags": []
   },
   "source": [
    "Now that we have imported the data, we can move on to cleaning it.\n",
    "\n",
    "Some issues and tasks have been prepared with the data beforehand in order to demonstrate some common data cleaning tasks:"
   ]
  },
  {
   "cell_type": "markdown",
   "id": "dbece4ab-d713-4fb9-bba7-ac9f98be24bb",
   "metadata": {
    "jp-MarkdownHeadingCollapsed": true,
    "slideshow": {
     "slide_type": "skip"
    },
    "tags": []
   },
   "source": [
    "1. A missing value\n",
    "2. An entry error (spelling mistake)\n",
    "3. An entry error (too many hours)\n",
    "4. An invalid entry for a \"y\" or \"n\" question\n",
    "5. Convert text input columns to upper case\n",
    "6. Convert Yes/No Columns to Boolean\n",
    "7. Convert the Test Scores to Percentages"
   ]
  },
  {
   "cell_type": "markdown",
   "id": "24049d48-ffb0-4f5d-8a8d-3ea92b3d2acf",
   "metadata": {
    "slideshow": {
     "slide_type": "subslide"
    },
    "tags": []
   },
   "source": [
    "## Data Cleaning Task #1: A Missing Value\n",
    "\n",
    "When looking at the output from `df.info()` we saw a null value in the 'confidence_pre' column.\n",
    "\n",
    "We can see which row this is by applying a **mask**. Basically we're telling the computer, *\"show me the rows where the value in the column 'confidence_pre' is null.\"*\n",
    "\n",
    "Let's break down how that would be done:"
   ]
  },
  {
   "cell_type": "markdown",
   "id": "09718d2f-82f1-4cab-a81b-f39e3786b21c",
   "metadata": {
    "slideshow": {
     "slide_type": "subslide"
    },
    "tags": []
   },
   "source": [
    "**STEP 1:** We want the `confidence_pre` column."
   ]
  },
  {
   "cell_type": "code",
   "execution_count": 22,
   "id": "e6fdcdb1-74b9-4a87-a7f1-da1559375e22",
   "metadata": {
    "slideshow": {
     "slide_type": "fragment"
    },
    "tags": []
   },
   "outputs": [],
   "source": [
    "target_column = df[\"confidence_pre\"]\n",
    "# target_column will be a Series"
   ]
  },
  {
   "cell_type": "markdown",
   "id": "691ac53a-0e9c-4c77-974c-fa3d743d99a0",
   "metadata": {
    "slideshow": {
     "slide_type": "subslide"
    },
    "tags": []
   },
   "source": [
    "**STEP 2:** We want to know which of the values is null\n",
    "\n",
    "*With pandas, empty cells are refered to as NaN (Not a Number). This is something from the engine that pandas uses under the hood.*\n",
    "\n",
    "We will make a mask checking for empty values using pandas `isna()` method:"
   ]
  },
  {
   "cell_type": "code",
   "execution_count": 23,
   "id": "e962d518-f76c-48cc-98be-b133e5d3b939",
   "metadata": {
    "slideshow": {
     "slide_type": "fragment"
    },
    "tags": []
   },
   "outputs": [],
   "source": [
    "confidence_is_null_mask = pd.isna(target_column)\n",
    "# result is a boolean Series"
   ]
  },
  {
   "cell_type": "markdown",
   "id": "ca3b403c-bc0d-4809-90ae-b37764e5772d",
   "metadata": {
    "slideshow": {
     "slide_type": "subslide"
    },
    "tags": []
   },
   "source": [
    "**STEP 3:** We apply that mask to the dataframe.\n",
    "\n",
    "Any row of the dataframe that has `True` in the mask will print out."
   ]
  },
  {
   "cell_type": "code",
   "execution_count": 24,
   "id": "52b7e78c-fbe8-48c0-a466-64e05aad20ac",
   "metadata": {
    "slideshow": {
     "slide_type": "fragment"
    },
    "tags": []
   },
   "outputs": [
    {
     "data": {
      "text/html": [
       "<div>\n",
       "<style scoped>\n",
       "    .dataframe tbody tr th:only-of-type {\n",
       "        vertical-align: middle;\n",
       "    }\n",
       "\n",
       "    .dataframe tbody tr th {\n",
       "        vertical-align: top;\n",
       "    }\n",
       "\n",
       "    .dataframe thead th {\n",
       "        text-align: right;\n",
       "    }\n",
       "</style>\n",
       "<table border=\"1\" class=\"dataframe\">\n",
       "  <thead>\n",
       "    <tr style=\"text-align: right;\">\n",
       "      <th></th>\n",
       "      <th>Age</th>\n",
       "      <th>Sex</th>\n",
       "      <th>yrs_eflexp</th>\n",
       "      <th>favorite_topping_pre</th>\n",
       "      <th>pineapple</th>\n",
       "      <th>exp_pzmat</th>\n",
       "      <th>score_pre</th>\n",
       "      <th>motivation_pre</th>\n",
       "      <th>confidence_pre</th>\n",
       "      <th>hrs_pzmat</th>\n",
       "      <th>score_post</th>\n",
       "      <th>motivation_post</th>\n",
       "      <th>confidence_post</th>\n",
       "      <th>favorite_topping_post</th>\n",
       "      <th>start_efl_year</th>\n",
       "    </tr>\n",
       "  </thead>\n",
       "  <tbody>\n",
       "    <tr>\n",
       "      <th>71</th>\n",
       "      <td>20</td>\n",
       "      <td>Female</td>\n",
       "      <td>7</td>\n",
       "      <td>Chicken</td>\n",
       "      <td>n</td>\n",
       "      <td>n</td>\n",
       "      <td>21</td>\n",
       "      <td>3</td>\n",
       "      <td>NaN</td>\n",
       "      <td>14</td>\n",
       "      <td>34</td>\n",
       "      <td>5</td>\n",
       "      <td>4</td>\n",
       "      <td>Pineapple</td>\n",
       "      <td>13</td>\n",
       "    </tr>\n",
       "  </tbody>\n",
       "</table>\n",
       "</div>"
      ],
      "text/plain": [
       "    Age     Sex  yrs_eflexp favorite_topping_pre pineapple exp_pzmat  \\\n",
       "71   20  Female           7              Chicken         n         n   \n",
       "\n",
       "    score_pre  motivation_pre  confidence_pre  hrs_pzmat  score_post  \\\n",
       "71         21               3             NaN         14          34   \n",
       "\n",
       "    motivation_post  confidence_post favorite_topping_post  start_efl_year  \n",
       "71                5                4             Pineapple              13  "
      ]
     },
     "execution_count": 24,
     "metadata": {},
     "output_type": "execute_result"
    }
   ],
   "source": [
    "df[confidence_is_null_mask]"
   ]
  },
  {
   "cell_type": "markdown",
   "id": "99e4e957-f387-45da-b0a7-a29551fa2fb5",
   "metadata": {
    "slideshow": {
     "slide_type": "subslide"
    },
    "tags": []
   },
   "source": [
    "**STEP 4:** We decide what to do about this Missing Data."
   ]
  },
  {
   "cell_type": "markdown",
   "id": "13b3cc49-6f77-47b2-9a50-d7493d941a47",
   "metadata": {
    "slideshow": {
     "slide_type": "skip"
    },
    "tags": []
   },
   "source": [
    "Pandas has a number of built in methods for filling in missing data.\n",
    "\n",
    "We will fill this with the most frequent value which requires a bit more work.\n",
    "\n",
    "So, we're going to tell the computer to *\"fill any empty cells with the most frequent value from the column 'confidence_pre'.\"*"
   ]
  },
  {
   "cell_type": "markdown",
   "id": "4a21e600-d484-42d7-af06-18315bb63a0b",
   "metadata": {
    "slideshow": {
     "slide_type": "subslide"
    },
    "tags": []
   },
   "source": [
    "**STEP 5:** Get the most frequent value from `confidence_pre`"
   ]
  },
  {
   "cell_type": "markdown",
   "id": "6e523414-4a7a-4123-abaa-69337805f916",
   "metadata": {
    "slideshow": {
     "slide_type": "skip"
    },
    "tags": []
   },
   "source": [
    "Dataframes and Series have a `value_counts()` method that counts the frequency of each value. By default the result is sorted in descending order. Using `value_counts()` gives us a **Series** - something like this:\n",
    "\n",
    "| index | count |\n",
    "| ----- | ----- |\n",
    "| 2.0   |  45   |\n",
    "| 3.0   |  15   |\n",
    "| 1.0   |   6   |\n",
    "| 4.0   |   5   |\n",
    "\n",
    "We want the index value (not the count result) of whatever ends up in the first row."
   ]
  },
  {
   "cell_type": "code",
   "execution_count": 25,
   "id": "216d4235-8d75-4fbf-ab1a-1d91e1e8b828",
   "metadata": {
    "slideshow": {
     "slide_type": "fragment"
    },
    "tags": []
   },
   "outputs": [],
   "source": [
    "confidence_value_counts = df[\"confidence_pre\"].value_counts()\n",
    "# result is a Series"
   ]
  },
  {
   "cell_type": "code",
   "execution_count": 26,
   "id": "dd5dc9c6-1894-48bb-80ad-0228c8451f3c",
   "metadata": {
    "slideshow": {
     "slide_type": "fragment"
    },
    "tags": []
   },
   "outputs": [
    {
     "data": {
      "text/plain": [
       "2.0"
      ]
     },
     "execution_count": 26,
     "metadata": {},
     "output_type": "execute_result"
    }
   ],
   "source": [
    "# Get the index value of the most frequent\n",
    "# index 0 is the first one\n",
    "most_frequent_value = confidence_value_counts.index[0]\n",
    "\n",
    "\n",
    "# Let's see what it is\n",
    "most_frequent_value"
   ]
  },
  {
   "cell_type": "markdown",
   "id": "0294085c-37b3-4131-9bab-318904ded22c",
   "metadata": {
    "slideshow": {
     "slide_type": "subslide"
    },
    "tags": []
   },
   "source": [
    "**STEP 6:** Fill in the missing value."
   ]
  },
  {
   "cell_type": "markdown",
   "id": "66c6d9e2-0802-4741-b67f-d4592fa6034c",
   "metadata": {
    "slideshow": {
     "slide_type": "skip"
    },
    "tags": []
   },
   "source": [
    "After we get the value, we'll use the `fillna()` method on the `confidence_pre` column to fill in that value. Note: this would fill in *any* missing values in that column."
   ]
  },
  {
   "cell_type": "code",
   "execution_count": 27,
   "id": "8fe79ac2-6e32-4395-9949-cc849a23cdf0",
   "metadata": {
    "slideshow": {
     "slide_type": "fragment"
    },
    "tags": []
   },
   "outputs": [],
   "source": [
    "# Replace the missing value using fillna()\n",
    "df[\"confidence_pre\"] = df[\"confidence_pre\"].fillna(most_frequent_value)"
   ]
  },
  {
   "cell_type": "markdown",
   "id": "742349be-8375-4a4c-a439-d4e0f30e8a94",
   "metadata": {
    "slideshow": {
     "slide_type": "skip"
    },
    "tags": []
   },
   "source": [
    "## Data Cleaning Task #2: A Spelling Mistake\n",
    "\n",
    "There is a spelling mistake in `favorite_topping_pre`.\n",
    "\n",
    "We can see all of the values in the column with the `unique()` method. There aren't many different values so we should be able to spotthe spelling mistake."
   ]
  },
  {
   "cell_type": "code",
   "execution_count": 28,
   "id": "0817e3b3-0858-419a-a138-fa4b6a67b1fd",
   "metadata": {
    "slideshow": {
     "slide_type": "skip"
    },
    "tags": []
   },
   "outputs": [
    {
     "data": {
      "text/plain": [
       "array(['Pepperoni', 'Sausage', 'Onions', 'Olives', 'Green Peppers',\n",
       "       'Chicken', 'Bacon', 'Mushrooms', 'Pineapple', 'Pinapple'],\n",
       "      dtype=object)"
      ]
     },
     "execution_count": 28,
     "metadata": {},
     "output_type": "execute_result"
    }
   ],
   "source": [
    "df[\"favorite_topping_pre\"].unique()"
   ]
  },
  {
   "cell_type": "markdown",
   "id": "9e5abc57-a861-41c7-b327-c3edf4ebcc0f",
   "metadata": {
    "slideshow": {
     "slide_type": "skip"
    },
    "tags": []
   },
   "source": [
    "This doesn't tell us how many times *Pinapple* occurs. We can use the `replace()` method to change this. You'll notice that we're feeding a python dictionary into the method. The dictionary key is the mistaken spelling and the value is the correct spelling. This will replace any of those mistakes for the entire column."
   ]
  },
  {
   "cell_type": "code",
   "execution_count": 29,
   "id": "6b568244-b71b-4669-bc48-5afb92b0df5e",
   "metadata": {
    "slideshow": {
     "slide_type": "skip"
    },
    "tags": []
   },
   "outputs": [],
   "source": [
    "# Let's change \"Pinapple\" to \"Pineapple\"\n",
    "df[\"favorite_topping_pre\"] = df[\"favorite_topping_pre\"].replace({\"Pinapple\": \"Pineapple\"})"
   ]
  },
  {
   "cell_type": "markdown",
   "id": "a3fe611c-57e9-4372-a05c-e62c066cb669",
   "metadata": {
    "slideshow": {
     "slide_type": "skip"
    },
    "tags": []
   },
   "source": [
    "## Data Cleaning Task #3: A Number Mistake\n",
    "\n",
    "Students should have a maximum of **50 hours** with the material. We can expect that any value less than 0 or greater than 50 will be wrong."
   ]
  },
  {
   "cell_type": "code",
   "execution_count": 30,
   "id": "cdc2cd2c-ef68-4adc-a552-31ae2ee85155",
   "metadata": {
    "slideshow": {
     "slide_type": "skip"
    },
    "tags": []
   },
   "outputs": [],
   "source": [
    "# We will make a mask that is combined with two conditions.\n",
    "# Notice the two conditions are separated by a pipe character which means OR \n",
    "# So we are looking for anything less than 0 OR greater than 50\n",
    "\n",
    "out_of_range_mask = (df[\"hrs_pzmat\"] < 0) | (df[\"hrs_pzmat\"] > 50)"
   ]
  },
  {
   "cell_type": "code",
   "execution_count": 31,
   "id": "58be7991-4b34-44b4-a492-1ec0e1eb6c99",
   "metadata": {
    "slideshow": {
     "slide_type": "skip"
    },
    "tags": []
   },
   "outputs": [
    {
     "data": {
      "text/html": [
       "<div>\n",
       "<style scoped>\n",
       "    .dataframe tbody tr th:only-of-type {\n",
       "        vertical-align: middle;\n",
       "    }\n",
       "\n",
       "    .dataframe tbody tr th {\n",
       "        vertical-align: top;\n",
       "    }\n",
       "\n",
       "    .dataframe thead th {\n",
       "        text-align: right;\n",
       "    }\n",
       "</style>\n",
       "<table border=\"1\" class=\"dataframe\">\n",
       "  <thead>\n",
       "    <tr style=\"text-align: right;\">\n",
       "      <th></th>\n",
       "      <th>Age</th>\n",
       "      <th>Sex</th>\n",
       "      <th>yrs_eflexp</th>\n",
       "      <th>favorite_topping_pre</th>\n",
       "      <th>pineapple</th>\n",
       "      <th>exp_pzmat</th>\n",
       "      <th>score_pre</th>\n",
       "      <th>motivation_pre</th>\n",
       "      <th>confidence_pre</th>\n",
       "      <th>hrs_pzmat</th>\n",
       "      <th>score_post</th>\n",
       "      <th>motivation_post</th>\n",
       "      <th>confidence_post</th>\n",
       "      <th>favorite_topping_post</th>\n",
       "      <th>start_efl_year</th>\n",
       "    </tr>\n",
       "  </thead>\n",
       "  <tbody>\n",
       "    <tr>\n",
       "      <th>28</th>\n",
       "      <td>19</td>\n",
       "      <td>Male</td>\n",
       "      <td>12</td>\n",
       "      <td>Chicken</td>\n",
       "      <td>y</td>\n",
       "      <td>n</td>\n",
       "      <td>37</td>\n",
       "      <td>3</td>\n",
       "      <td>2.0</td>\n",
       "      <td>603</td>\n",
       "      <td>63</td>\n",
       "      <td>4</td>\n",
       "      <td>3</td>\n",
       "      <td>Pineapple</td>\n",
       "      <td>7</td>\n",
       "    </tr>\n",
       "  </tbody>\n",
       "</table>\n",
       "</div>"
      ],
      "text/plain": [
       "    Age   Sex  yrs_eflexp favorite_topping_pre pineapple exp_pzmat  score_pre  \\\n",
       "28   19  Male          12              Chicken         y         n         37   \n",
       "\n",
       "    motivation_pre  confidence_pre  hrs_pzmat  score_post  motivation_post  \\\n",
       "28               3             2.0        603          63                4   \n",
       "\n",
       "    confidence_post favorite_topping_post  start_efl_year  \n",
       "28                3             Pineapple               7  "
      ]
     },
     "execution_count": 31,
     "metadata": {},
     "output_type": "execute_result"
    }
   ],
   "source": [
    "# Let's see who is out of range\n",
    "df[out_of_range_mask]"
   ]
  },
  {
   "cell_type": "markdown",
   "id": "839f73a9-67d4-4e9c-957c-a5147387bd46",
   "metadata": {
    "slideshow": {
     "slide_type": "skip"
    },
    "tags": []
   },
   "source": [
    "We could fix this by telling the computer, \"Give this one student the average hours of male students his age.\"\n",
    "\n",
    "After getting the value, we will apply it using `loc` which is what we use to access a group of rows. `loc` is also one of the few ways that we can assign a new value."
   ]
  },
  {
   "cell_type": "code",
   "execution_count": 32,
   "id": "f4c677e3-8690-41a5-a6f7-7cde64ee88bf",
   "metadata": {
    "slideshow": {
     "slide_type": "skip"
    },
    "tags": []
   },
   "outputs": [
    {
     "data": {
      "text/plain": [
       "20"
      ]
     },
     "execution_count": 32,
     "metadata": {},
     "output_type": "execute_result"
    }
   ],
   "source": [
    "# Now we need a mask for those participants that are in range\n",
    "# This happens to be the inverse of the out_of_range_mask we made above\n",
    "in_range_mask = ~out_of_range_mask   # invert a mask with a prefixed tilde ~\n",
    "\n",
    "# We need another mask for Male participants that are 19\n",
    "# These are separated by an ampersand (&) meaning a conditional AND\n",
    "male_19_mask = (df[\"Age\"] == 19) & (df[\"Sex\"] == \"Male\")\n",
    "\n",
    "# We can not apply the mask to the dataframe\n",
    "# Notice that we are combining with AND:\n",
    "#   in_range_mask & male_19_mask\n",
    "# Then we get the mean for the column, and finally round it\n",
    "value = df[in_range_mask & male_19_mask][\"hrs_pzmat\"].mean()\n",
    "average_hours_19_male = round(value)\n",
    "\n",
    "# Let's see what it is\n",
    "average_hours_19_male"
   ]
  },
  {
   "cell_type": "code",
   "execution_count": 33,
   "id": "6da507dd-4713-4332-b4e3-8ce494856859",
   "metadata": {
    "slideshow": {
     "slide_type": "skip"
    },
    "tags": []
   },
   "outputs": [],
   "source": [
    "# Now we will apply the value\n",
    "# We already have the masks that we need in order to select the row we want\n",
    "# We also need to specify the column we are assigning the new value to\n",
    "\n",
    "df.loc[out_of_range_mask & male_19_mask, \"hrs_pzmat\"] = average_hours_19_male"
   ]
  },
  {
   "cell_type": "markdown",
   "id": "695a0968-6c87-4413-a3d3-1efa1799796c",
   "metadata": {
    "slideshow": {
     "slide_type": "skip"
    },
    "tags": []
   },
   "source": [
    "Admittedly, this approach for this one row is slightly overkill but it is meant to show how flexible and powerful masks can be. We had one 19 year old male with a problem value. What if we had another participant that was female and wanted to assign a different value? We could easily make a different mask so that we aren't applying wrong values to the wrong group. Now try to think about how helpful these masks would be if you are dealing with many thousands of rows and you have over 500 such errors."
   ]
  },
  {
   "cell_type": "markdown",
   "id": "4484749b-bdac-4483-a0a0-97f3a67cbac2",
   "metadata": {
    "slideshow": {
     "slide_type": "skip"
    },
    "tags": []
   },
   "source": [
    "## Data Cleaning Task #4: An Input Error\n",
    "Students also had to fill in **y** or **n** for some parts of the form. There is a wrong value in the `pineapple` column."
   ]
  },
  {
   "cell_type": "code",
   "execution_count": 34,
   "id": "936b72d4-fe03-4e48-af25-1f0142f05d3d",
   "metadata": {
    "slideshow": {
     "slide_type": "skip"
    },
    "tags": []
   },
   "outputs": [
    {
     "data": {
      "text/plain": [
       "50    NO!\n",
       "Name: pineapple, dtype: object"
      ]
     },
     "execution_count": 34,
     "metadata": {},
     "output_type": "execute_result"
    }
   ],
   "source": [
    "# Make a mask that would show anything that is not y or not n\n",
    "yes_no_mask = (df[\"pineapple\"] != \"y\") & (df[\"pineapple\"] != \"n\")\n",
    "\n",
    "# Apply the mask and look at the pineapple column\n",
    "df[yes_no_mask][\"pineapple\"]"
   ]
  },
  {
   "cell_type": "markdown",
   "id": "6eef958e-8d3c-4cd5-8906-65830e0fe398",
   "metadata": {
    "slideshow": {
     "slide_type": "skip"
    },
    "tags": []
   },
   "source": [
    "It looks like there is an emphatic **\"NO!\"** for one student. The value should be \"n\" so it's an easy fix with the `replace()` method."
   ]
  },
  {
   "cell_type": "code",
   "execution_count": 35,
   "id": "88bd6edb-da0d-4844-b447-1acd3137f80b",
   "metadata": {
    "slideshow": {
     "slide_type": "skip"
    },
    "tags": []
   },
   "outputs": [],
   "source": [
    "df[\"pineapple\"] = df[\"pineapple\"].replace({\"NO!\": \"n\"})"
   ]
  },
  {
   "cell_type": "markdown",
   "id": "8cb75bdf-56cc-4486-bcb9-c6f13e71890b",
   "metadata": {
    "slideshow": {
     "slide_type": "skip"
    },
    "tags": []
   },
   "source": [
    "## Data Cleaning Task #5: Convert Text Input Columns to Upper Case\n",
    "\n",
    "Examine these strings:\n",
    "\n",
    "1. pineapple\n",
    "2. Pineapple\n",
    "3. PINEAPPLE\n",
    "\n",
    "Are they the same? They certainly are some level, however, in python code these are not equal since they have a mixture of upper and lower case. If we tried to make a group out of these, it would not work.\n",
    "\n",
    "One simple approach to solve this is to make strings have the same case.\n",
    "\n",
    "In our dataframe, we have several columns that have such strings. They would have been text inputs on the forms that participants filled out. \n",
    "\n",
    "We want to change all of these columns to the same case. This could be a lot of code to write depending on the number of columns. But we're using a programming language! We can make a list of columns, and then iterate through them in a `for` loop. The same code will be used within the `for` loop to change the string to uppercase for the column."
   ]
  },
  {
   "cell_type": "code",
   "execution_count": 36,
   "id": "24b879b2-c2d1-43b4-8d5d-65cb45a298df",
   "metadata": {
    "slideshow": {
     "slide_type": "skip"
    },
    "tags": []
   },
   "outputs": [
    {
     "data": {
      "text/html": [
       "<div>\n",
       "<style scoped>\n",
       "    .dataframe tbody tr th:only-of-type {\n",
       "        vertical-align: middle;\n",
       "    }\n",
       "\n",
       "    .dataframe tbody tr th {\n",
       "        vertical-align: top;\n",
       "    }\n",
       "\n",
       "    .dataframe thead th {\n",
       "        text-align: right;\n",
       "    }\n",
       "</style>\n",
       "<table border=\"1\" class=\"dataframe\">\n",
       "  <thead>\n",
       "    <tr style=\"text-align: right;\">\n",
       "      <th></th>\n",
       "      <th>favorite_topping_pre</th>\n",
       "      <th>favorite_topping_post</th>\n",
       "      <th>Sex</th>\n",
       "    </tr>\n",
       "  </thead>\n",
       "  <tbody>\n",
       "    <tr>\n",
       "      <th>0</th>\n",
       "      <td>PEPPERONI</td>\n",
       "      <td>PINEAPPLE</td>\n",
       "      <td>MALE</td>\n",
       "    </tr>\n",
       "    <tr>\n",
       "      <th>1</th>\n",
       "      <td>SAUSAGE</td>\n",
       "      <td>PINEAPPLE</td>\n",
       "      <td>FEMALE</td>\n",
       "    </tr>\n",
       "    <tr>\n",
       "      <th>2</th>\n",
       "      <td>ONIONS</td>\n",
       "      <td>PINEAPPLE</td>\n",
       "      <td>MALE</td>\n",
       "    </tr>\n",
       "    <tr>\n",
       "      <th>3</th>\n",
       "      <td>OLIVES</td>\n",
       "      <td>PINEAPPLE</td>\n",
       "      <td>FEMALE</td>\n",
       "    </tr>\n",
       "    <tr>\n",
       "      <th>4</th>\n",
       "      <td>GREEN PEPPERS</td>\n",
       "      <td>PINEAPPLE</td>\n",
       "      <td>MALE</td>\n",
       "    </tr>\n",
       "    <tr>\n",
       "      <th>...</th>\n",
       "      <td>...</td>\n",
       "      <td>...</td>\n",
       "      <td>...</td>\n",
       "    </tr>\n",
       "    <tr>\n",
       "      <th>67</th>\n",
       "      <td>OLIVES</td>\n",
       "      <td>PINEAPPLE</td>\n",
       "      <td>FEMALE</td>\n",
       "    </tr>\n",
       "    <tr>\n",
       "      <th>68</th>\n",
       "      <td>ONIONS</td>\n",
       "      <td>PINEAPPLE</td>\n",
       "      <td>MALE</td>\n",
       "    </tr>\n",
       "    <tr>\n",
       "      <th>69</th>\n",
       "      <td>GREEN PEPPERS</td>\n",
       "      <td>PINEAPPLE</td>\n",
       "      <td>FEMALE</td>\n",
       "    </tr>\n",
       "    <tr>\n",
       "      <th>70</th>\n",
       "      <td>PEPPERONI</td>\n",
       "      <td>PINEAPPLE</td>\n",
       "      <td>MALE</td>\n",
       "    </tr>\n",
       "    <tr>\n",
       "      <th>71</th>\n",
       "      <td>CHICKEN</td>\n",
       "      <td>PINEAPPLE</td>\n",
       "      <td>FEMALE</td>\n",
       "    </tr>\n",
       "  </tbody>\n",
       "</table>\n",
       "<p>72 rows × 3 columns</p>\n",
       "</div>"
      ],
      "text/plain": [
       "   favorite_topping_pre favorite_topping_post     Sex\n",
       "0             PEPPERONI             PINEAPPLE    MALE\n",
       "1               SAUSAGE             PINEAPPLE  FEMALE\n",
       "2                ONIONS             PINEAPPLE    MALE\n",
       "3                OLIVES             PINEAPPLE  FEMALE\n",
       "4         GREEN PEPPERS             PINEAPPLE    MALE\n",
       "..                  ...                   ...     ...\n",
       "67               OLIVES             PINEAPPLE  FEMALE\n",
       "68               ONIONS             PINEAPPLE    MALE\n",
       "69        GREEN PEPPERS             PINEAPPLE  FEMALE\n",
       "70            PEPPERONI             PINEAPPLE    MALE\n",
       "71              CHICKEN             PINEAPPLE  FEMALE\n",
       "\n",
       "[72 rows x 3 columns]"
      ]
     },
     "execution_count": 36,
     "metadata": {},
     "output_type": "execute_result"
    }
   ],
   "source": [
    "# Make a list of columns we will convert to uppercase\n",
    "text_input_columns = [\"favorite_topping_pre\", \"favorite_topping_post\", \"Sex\"]\n",
    "\n",
    "# Make a 'for' loop\n",
    "for column in text_input_columns:\n",
    "    # for every column in the list of columns, change the string to uppercase\n",
    "    df[column] = df[column].str.upper()\n",
    "\n",
    "# Let's see the result by selecting those columns\n",
    "df[text_input_columns]"
   ]
  },
  {
   "cell_type": "markdown",
   "id": "b326a811-624f-4871-86fe-bffeef686f62",
   "metadata": {
    "slideshow": {
     "slide_type": "skip"
    },
    "tags": []
   },
   "source": [
    "## Data Cleaning Task #6: Convert Yes/No Columns to Boolean\n",
    "\n",
    "In python we have a `bool` type which is important to use for comparisons. We have a few columns that are using binary values (yes or no) but leaving them as is would create more work later. Some built-in operations in python work with bools, but wouldn't work well with strings of \"y\" or \"n\". The same is true for Pandas.\n",
    "\n",
    "To fix this, we will loop through the columns that have yes/no values and replace the value with `True` or `False`.\n",
    "\n",
    "The *better* approach to this would be to use `replace()` like we have earlier. However, it's a simple example to show another very powerful method: `apply()`. The `apply()` method allows you to use functions to manipulate values. In the example below we will define a python function, and then tell pandas to use that function with the `apply()` method.\n",
    "\n",
    "Note that after we change all the values in these columns to bools, pandas will automatically convert the `dtype` for those columns to `bool`. This can be checked with `df.info()`"
   ]
  },
  {
   "cell_type": "code",
   "execution_count": 37,
   "id": "51d1ed5a-bf5f-46fc-84dc-0353b6e5f097",
   "metadata": {
    "slideshow": {
     "slide_type": "skip"
    },
    "tags": []
   },
   "outputs": [
    {
     "data": {
      "text/html": [
       "<div>\n",
       "<style scoped>\n",
       "    .dataframe tbody tr th:only-of-type {\n",
       "        vertical-align: middle;\n",
       "    }\n",
       "\n",
       "    .dataframe tbody tr th {\n",
       "        vertical-align: top;\n",
       "    }\n",
       "\n",
       "    .dataframe thead th {\n",
       "        text-align: right;\n",
       "    }\n",
       "</style>\n",
       "<table border=\"1\" class=\"dataframe\">\n",
       "  <thead>\n",
       "    <tr style=\"text-align: right;\">\n",
       "      <th></th>\n",
       "      <th>pineapple</th>\n",
       "      <th>exp_pzmat</th>\n",
       "    </tr>\n",
       "  </thead>\n",
       "  <tbody>\n",
       "    <tr>\n",
       "      <th>0</th>\n",
       "      <td>True</td>\n",
       "      <td>False</td>\n",
       "    </tr>\n",
       "    <tr>\n",
       "      <th>1</th>\n",
       "      <td>True</td>\n",
       "      <td>False</td>\n",
       "    </tr>\n",
       "    <tr>\n",
       "      <th>2</th>\n",
       "      <td>True</td>\n",
       "      <td>False</td>\n",
       "    </tr>\n",
       "    <tr>\n",
       "      <th>3</th>\n",
       "      <td>False</td>\n",
       "      <td>False</td>\n",
       "    </tr>\n",
       "    <tr>\n",
       "      <th>4</th>\n",
       "      <td>False</td>\n",
       "      <td>False</td>\n",
       "    </tr>\n",
       "    <tr>\n",
       "      <th>...</th>\n",
       "      <td>...</td>\n",
       "      <td>...</td>\n",
       "    </tr>\n",
       "    <tr>\n",
       "      <th>67</th>\n",
       "      <td>False</td>\n",
       "      <td>False</td>\n",
       "    </tr>\n",
       "    <tr>\n",
       "      <th>68</th>\n",
       "      <td>False</td>\n",
       "      <td>True</td>\n",
       "    </tr>\n",
       "    <tr>\n",
       "      <th>69</th>\n",
       "      <td>False</td>\n",
       "      <td>False</td>\n",
       "    </tr>\n",
       "    <tr>\n",
       "      <th>70</th>\n",
       "      <td>True</td>\n",
       "      <td>False</td>\n",
       "    </tr>\n",
       "    <tr>\n",
       "      <th>71</th>\n",
       "      <td>False</td>\n",
       "      <td>False</td>\n",
       "    </tr>\n",
       "  </tbody>\n",
       "</table>\n",
       "<p>72 rows × 2 columns</p>\n",
       "</div>"
      ],
      "text/plain": [
       "    pineapple  exp_pzmat\n",
       "0        True      False\n",
       "1        True      False\n",
       "2        True      False\n",
       "3       False      False\n",
       "4       False      False\n",
       "..        ...        ...\n",
       "67      False      False\n",
       "68      False       True\n",
       "69      False      False\n",
       "70       True      False\n",
       "71      False      False\n",
       "\n",
       "[72 rows x 2 columns]"
      ]
     },
     "execution_count": 37,
     "metadata": {},
     "output_type": "execute_result"
    }
   ],
   "source": [
    "# A function that will return True for a \"y\" value or False for a \"n\" value\n",
    "def convert_yes_no(value):\n",
    "    if value == \"y\":\n",
    "        return True\n",
    "    elif value == \"n\":\n",
    "        return False\n",
    "    return value # if there wasn't a y / n, return the original value\n",
    "\n",
    "# Specify the columns in a list\n",
    "yes_no_columns = [\"pineapple\", \"exp_pzmat\"]\n",
    "\n",
    "# Iterate over the list of columns and use apply to convert the values\n",
    "for column in yes_no_columns:\n",
    "    # each value in the column will be passed to the convert_yes_no function\n",
    "    # the original value will be replaced by the returned value\n",
    "    df[column] = df[column].apply(convert_yes_no)\n",
    "\n",
    "# Let's see the result by selecting those columns\n",
    "df[yes_no_columns]"
   ]
  },
  {
   "cell_type": "markdown",
   "id": "bc4437be-242c-409d-982a-343c0cd107f8",
   "metadata": {
    "slideshow": {
     "slide_type": "skip"
    },
    "tags": []
   },
   "source": [
    "## Data Cleaning Task #7: Convert the Test Scores to Percentages\n",
    "\n",
    "The test scores were recorded as is but we will convert them to a percentage (as a float). The tests had a total score of 100. To calculate the percentage we would use the formula `score / total`. \n",
    "\n",
    "We can easily apply such a formula to an entire column:"
   ]
  },
  {
   "cell_type": "code",
   "execution_count": 38,
   "id": "68d7cbb0-ad3a-4b7b-bbbd-fca9c135cca8",
   "metadata": {
    "slideshow": {
     "slide_type": "skip"
    },
    "tags": []
   },
   "outputs": [
    {
     "data": {
      "text/html": [
       "<div>\n",
       "<style scoped>\n",
       "    .dataframe tbody tr th:only-of-type {\n",
       "        vertical-align: middle;\n",
       "    }\n",
       "\n",
       "    .dataframe tbody tr th {\n",
       "        vertical-align: top;\n",
       "    }\n",
       "\n",
       "    .dataframe thead th {\n",
       "        text-align: right;\n",
       "    }\n",
       "</style>\n",
       "<table border=\"1\" class=\"dataframe\">\n",
       "  <thead>\n",
       "    <tr style=\"text-align: right;\">\n",
       "      <th></th>\n",
       "      <th>score_pre</th>\n",
       "      <th>score_post</th>\n",
       "    </tr>\n",
       "  </thead>\n",
       "  <tbody>\n",
       "    <tr>\n",
       "      <th>0</th>\n",
       "      <td>0.71</td>\n",
       "      <td>0.82</td>\n",
       "    </tr>\n",
       "    <tr>\n",
       "      <th>1</th>\n",
       "      <td>0.45</td>\n",
       "      <td>0.76</td>\n",
       "    </tr>\n",
       "    <tr>\n",
       "      <th>2</th>\n",
       "      <td>0.33</td>\n",
       "      <td>0.68</td>\n",
       "    </tr>\n",
       "    <tr>\n",
       "      <th>3</th>\n",
       "      <td>0.62</td>\n",
       "      <td>0.90</td>\n",
       "    </tr>\n",
       "    <tr>\n",
       "      <th>4</th>\n",
       "      <td>0.56</td>\n",
       "      <td>0.78</td>\n",
       "    </tr>\n",
       "    <tr>\n",
       "      <th>...</th>\n",
       "      <td>...</td>\n",
       "      <td>...</td>\n",
       "    </tr>\n",
       "    <tr>\n",
       "      <th>67</th>\n",
       "      <td>0.11</td>\n",
       "      <td>0.63</td>\n",
       "    </tr>\n",
       "    <tr>\n",
       "      <th>68</th>\n",
       "      <td>0.54</td>\n",
       "      <td>0.87</td>\n",
       "    </tr>\n",
       "    <tr>\n",
       "      <th>69</th>\n",
       "      <td>0.34</td>\n",
       "      <td>0.67</td>\n",
       "    </tr>\n",
       "    <tr>\n",
       "      <th>70</th>\n",
       "      <td>0.52</td>\n",
       "      <td>0.67</td>\n",
       "    </tr>\n",
       "    <tr>\n",
       "      <th>71</th>\n",
       "      <td>0.21</td>\n",
       "      <td>0.34</td>\n",
       "    </tr>\n",
       "  </tbody>\n",
       "</table>\n",
       "<p>72 rows × 2 columns</p>\n",
       "</div>"
      ],
      "text/plain": [
       "    score_pre  score_post\n",
       "0        0.71        0.82\n",
       "1        0.45        0.76\n",
       "2        0.33        0.68\n",
       "3        0.62        0.90\n",
       "4        0.56        0.78\n",
       "..        ...         ...\n",
       "67       0.11        0.63\n",
       "68       0.54        0.87\n",
       "69       0.34        0.67\n",
       "70       0.52        0.67\n",
       "71       0.21        0.34\n",
       "\n",
       "[72 rows x 2 columns]"
      ]
     },
     "execution_count": 38,
     "metadata": {},
     "output_type": "execute_result"
    }
   ],
   "source": [
    "total_score = 100\n",
    "df[\"score_pre\"] = df[\"score_pre\"] / total_score\n",
    "df[\"score_post\"] = df[\"score_post\"] / total_score\n",
    "\n",
    "# Let's see the effect\n",
    "df[[\"score_pre\", \"score_post\"]]"
   ]
  },
  {
   "cell_type": "markdown",
   "id": "3fc9282e-7c89-4002-b7e0-e1973d95c368",
   "metadata": {
    "jp-MarkdownHeadingCollapsed": true,
    "slideshow": {
     "slide_type": "skip"
    },
    "tags": []
   },
   "source": [
    "## An Important Note\n",
    "\n",
    "There are a number of methods that you can use to replace or fill in data. We've demonstrated several approaches above, but keep in mind that the approach must be suitable for your particular dataset.\n",
    "\n",
    "<div class=\"alert alert-block alert-info\">\n",
    "<b>NOTE:</b> You should also take into consideration that missing data in pandas will generally <b><i>not</i></b> be included in calculations.\n",
    "</div>\n",
    "\n"
   ]
  },
  {
   "cell_type": "markdown",
   "id": "4a99d133-0b0d-44af-a6dd-5bddaea66ab1",
   "metadata": {
    "slideshow": {
     "slide_type": "slide"
    },
    "tags": []
   },
   "source": [
    "# Data Analysis / Visualization"
   ]
  },
  {
   "cell_type": "markdown",
   "id": "7a50edc5-e5c3-4c17-9b38-204ba398d8d7",
   "metadata": {
    "slideshow": {
     "slide_type": "skip"
    },
    "tags": []
   },
   "source": [
    "Now that the data is cleaned, we can start analyzing it.\n",
    "\n",
    "Pandas has a number of methods that give quick access to common statistics (standard deviation, variance, etc). For this section we're going to focus on some visual representations of our data."
   ]
  },
  {
   "cell_type": "markdown",
   "id": "3af1e485-ee76-4852-beea-efb330cfb36b",
   "metadata": {
    "slideshow": {
     "slide_type": "skip"
    },
    "tags": []
   },
   "source": [
    "Next, let's create some visualizations to understand our dataset."
   ]
  },
  {
   "cell_type": "markdown",
   "id": "6bcd7aba-77d2-43d9-a43a-75e8af041d17",
   "metadata": {
    "slideshow": {
     "slide_type": "skip"
    },
    "tags": []
   },
   "source": [
    "## Analysis 1: Overview of the Participants"
   ]
  },
  {
   "cell_type": "markdown",
   "id": "53c9dc99-4087-41a1-ac3f-176118bf4993",
   "metadata": {
    "slideshow": {
     "slide_type": "skip"
    },
    "tags": []
   },
   "source": [
    "### Ratio of Male and Female Participants (Pie Chart)\n",
    "\n",
    "First we want to understand the ratio of male and female participants in the form of a pie chart. This can be done in one line of code , but we'll break this down into some smaller steps."
   ]
  },
  {
   "cell_type": "markdown",
   "id": "4675a9eb-ee0d-4e21-9239-79a5af7f5236",
   "metadata": {
    "slideshow": {
     "slide_type": "skip"
    },
    "tags": []
   },
   "source": [
    "**STEP 1:** Make a group.\n",
    "\n",
    "The `groupby()` method is used to make a group. It can also take a list of columns to group by multiple features."
   ]
  },
  {
   "cell_type": "code",
   "execution_count": 39,
   "id": "edb5e037-4e4a-41e6-a265-35bb583e86bf",
   "metadata": {
    "slideshow": {
     "slide_type": "skip"
    },
    "tags": []
   },
   "outputs": [],
   "source": [
    "male_female_df = df.groupby(\"Sex\")\n",
    "\n",
    "# The above gives us the entire dataframe grouped by Sex\n",
    "# But we only need the \"Sex\" column\n",
    "\n",
    "male_female_series = male_female_df[\"Sex\"]"
   ]
  },
  {
   "cell_type": "markdown",
   "id": "d38f503b-e6fa-4842-88fe-efaa035b72a4",
   "metadata": {
    "slideshow": {
     "slide_type": "skip"
    },
    "tags": []
   },
   "source": [
    "**STEP 2:** Count each one in each group.\n",
    "\n",
    "Usually when using `groupby()` in pandas, we do some kind of aggregation on the group. What we want to do is count how many are in each group:"
   ]
  },
  {
   "cell_type": "code",
   "execution_count": 40,
   "id": "41a88bec-c7a3-4cc6-879f-65e95c39ed57",
   "metadata": {
    "slideshow": {
     "slide_type": "skip"
    },
    "tags": []
   },
   "outputs": [
    {
     "data": {
      "text/plain": [
       "Sex\n",
       "FEMALE    36\n",
       "MALE      36\n",
       "Name: Sex, dtype: int64"
      ]
     },
     "execution_count": 40,
     "metadata": {},
     "output_type": "execute_result"
    }
   ],
   "source": [
    "male_female_counts = male_female_series.count()  # will be a groupby series\n",
    "male_female_counts "
   ]
  },
  {
   "cell_type": "markdown",
   "id": "c28aa4eb-02dc-41f6-9b26-69262009d16e",
   "metadata": {
    "slideshow": {
     "slide_type": "skip"
    },
    "tags": []
   },
   "source": [
    "**STEP 3:** Make a Pie Chart\n",
    "\n",
    "The method `plot()` is fairly straightforward to use. Here we want to plot a pie chart:"
   ]
  },
  {
   "cell_type": "code",
   "execution_count": 41,
   "id": "542e94e5-13c1-47b7-986b-573d87dc8b2c",
   "metadata": {
    "slideshow": {
     "slide_type": "skip"
    },
    "tags": []
   },
   "outputs": [
    {
     "data": {
      "text/plain": [
       "<AxesSubplot: title={'center': 'Breakdown of Male/Female Participants'}, ylabel='Sex'>"
      ]
     },
     "execution_count": 41,
     "metadata": {},
     "output_type": "execute_result"
    },
    {
     "data": {
      "image/png": "[encoded data removed]",
      "text/plain": [
       "<Figure size 640x480 with 1 Axes>"
      ]
     },
     "metadata": {},
     "output_type": "display_data"
    }
   ],
   "source": [
    "male_female_counts.plot.pie(title=\"Breakdown of Male/Female Participants\", autopct='%1.1f%%')"
   ]
  },
  {
   "cell_type": "code",
   "execution_count": 42,
   "id": "e2e6cf38-4fa9-4d02-b1ac-5aaf3a6ce70d",
   "metadata": {
    "slideshow": {
     "slide_type": "skip"
    },
    "tags": []
   },
   "outputs": [],
   "source": [
    "# The above steps were broken down but could be done in one line:\n",
    "# df.groupby(\"Sex\")[\"Sex\"].count().plot.pie(title=\"Breakdown of Male/Female Participants\", autopct='%1.1f%%')"
   ]
  },
  {
   "cell_type": "markdown",
   "id": "442f9aac-a170-482c-8675-e0d28b5d01f7",
   "metadata": {
    "slideshow": {
     "slide_type": "subslide"
    },
    "tags": []
   },
   "source": [
    "### Distribution of Age (Bar Chart / Histogram)\n",
    "\n",
    "We can see the maximum, minimum, and mean age for participants:"
   ]
  },
  {
   "cell_type": "code",
   "execution_count": 43,
   "id": "77a06d82-f66e-4dc1-a597-c2f352918c1c",
   "metadata": {
    "slideshow": {
     "slide_type": "skip"
    },
    "tags": []
   },
   "outputs": [
    {
     "name": "stdout",
     "output_type": "stream",
     "text": [
      "The minimum age of participants was 18,the maximum was 22 and the mean was 19.54.\n"
     ]
    }
   ],
   "source": [
    "min_age = df[\"Age\"].min()\n",
    "max_age = df[\"Age\"].max()\n",
    "mean_age = round(df[\"Age\"].mean(), 2)  # rounded to 2 decimal places\n",
    "\n",
    "print(f\"\"\"The minimum age of participants was {min_age},\\\n",
    "the maximum was {max_age} and the mean was {mean_age}.\"\"\")"
   ]
  },
  {
   "cell_type": "markdown",
   "id": "e98efc39-cde1-403f-bafa-4b8eeea3387b",
   "metadata": {
    "slideshow": {
     "slide_type": "skip"
    },
    "tags": []
   },
   "source": [
    "Let's plot the Age distribution. Pandas does have a `hist()` method that would plot a histogram, but getting the expected visual it would be slightly complicated in this case. Instead, we can use a simple bar graph. We can get the value counts (not sorted by frequency) and then plot them in a bar graph. We'll also use the mean from above in the title."
   ]
  },
  {
   "cell_type": "code",
   "execution_count": 80,
   "id": "62df320b-6bf5-4d5c-bd2c-614b487201ec",
   "metadata": {
    "slideshow": {
     "slide_type": "subslide"
    },
    "tags": []
   },
   "outputs": [
    {
     "data": {
      "image/png": "[encoded data removed]",
      "text/plain": [
       "<Figure size 500x300 with 1 Axes>"
      ]
     },
     "metadata": {},
     "output_type": "display_data"
    }
   ],
   "source": [
    "df[\"Age\"].value_counts(sort=False).plot.bar(\n",
    "    title=f\"Distribution of Age (Mean = {mean_age})\",\n",
    "    xlabel=\"Age\",        # label the x-axis\n",
    "    ylabel=\"Frequency\",  # label the y-axis\n",
    "    rot=0,               # rotate the x-axis labels\n",
    "    figsize=(5,3),\n",
    ");"
   ]
  },
  {
   "cell_type": "markdown",
   "id": "c0817213-c4d6-41d8-ad43-c073da7f0362",
   "metadata": {
    "slideshow": {
     "slide_type": "subslide"
    },
    "tags": []
   },
   "source": [
    "### Male/Female Breakdown by Age (Stacked Bar Chart)"
   ]
  },
  {
   "cell_type": "markdown",
   "id": "53fc32e6-54bc-4114-90b8-8fa7b68c509a",
   "metadata": {
    "slideshow": {
     "slide_type": "skip"
    },
    "tags": []
   },
   "source": [
    "Next, let's breakdown the age of participants by Sex."
   ]
  },
  {
   "cell_type": "code",
   "execution_count": 45,
   "id": "09c37ac8-191b-4d6e-a32c-7a607fd5da90",
   "metadata": {
    "slideshow": {
     "slide_type": "fragment"
    },
    "tags": []
   },
   "outputs": [
    {
     "data": {
      "text/plain": [
       "Sex     Age\n",
       "FEMALE  18      2\n",
       "        19     15\n",
       "        20      6\n",
       "        21      4\n",
       "        22      9\n",
       "MALE    18     13\n",
       "        19     16\n",
       "        20      2\n",
       "        21      4\n",
       "        22      1\n",
       "Name: Age, dtype: int64"
      ]
     },
     "execution_count": 45,
     "metadata": {},
     "output_type": "execute_result"
    }
   ],
   "source": [
    "# Make a group using two columns\n",
    "# select the Age column\n",
    "# then and do a count (aggregate)\n",
    "sex_age_series = df.groupby([\"Sex\", \"Age\"])[\"Age\"].count()\n",
    "sex_age_series"
   ]
  },
  {
   "cell_type": "code",
   "execution_count": 46,
   "id": "43b29a39-bcd9-42b6-9fe4-fa8c2b0c73f1",
   "metadata": {
    "slideshow": {
     "slide_type": "subslide"
    },
    "tags": []
   },
   "outputs": [
    {
     "data": {
      "text/html": [
       "<div>\n",
       "<style scoped>\n",
       "    .dataframe tbody tr th:only-of-type {\n",
       "        vertical-align: middle;\n",
       "    }\n",
       "\n",
       "    .dataframe tbody tr th {\n",
       "        vertical-align: top;\n",
       "    }\n",
       "\n",
       "    .dataframe thead th {\n",
       "        text-align: right;\n",
       "    }\n",
       "</style>\n",
       "<table border=\"1\" class=\"dataframe\">\n",
       "  <thead>\n",
       "    <tr style=\"text-align: right;\">\n",
       "      <th>Age</th>\n",
       "      <th>18</th>\n",
       "      <th>19</th>\n",
       "      <th>20</th>\n",
       "      <th>21</th>\n",
       "      <th>22</th>\n",
       "    </tr>\n",
       "    <tr>\n",
       "      <th>Sex</th>\n",
       "      <th></th>\n",
       "      <th></th>\n",
       "      <th></th>\n",
       "      <th></th>\n",
       "      <th></th>\n",
       "    </tr>\n",
       "  </thead>\n",
       "  <tbody>\n",
       "    <tr>\n",
       "      <th>FEMALE</th>\n",
       "      <td>2</td>\n",
       "      <td>15</td>\n",
       "      <td>6</td>\n",
       "      <td>4</td>\n",
       "      <td>9</td>\n",
       "    </tr>\n",
       "    <tr>\n",
       "      <th>MALE</th>\n",
       "      <td>13</td>\n",
       "      <td>16</td>\n",
       "      <td>2</td>\n",
       "      <td>4</td>\n",
       "      <td>1</td>\n",
       "    </tr>\n",
       "  </tbody>\n",
       "</table>\n",
       "</div>"
      ],
      "text/plain": [
       "Age     18  19  20  21  22\n",
       "Sex                       \n",
       "FEMALE   2  15   6   4   9\n",
       "MALE    13  16   2   4   1"
      ]
     },
     "execution_count": 46,
     "metadata": {},
     "output_type": "execute_result"
    }
   ],
   "source": [
    "# The result from above is a Series\n",
    "# with a special index called a MultiIndex\n",
    "# We need to unstack the series from above\n",
    "# The unstack() method reshapes the Series\n",
    "# The result is something like doing a pivot\n",
    "# and will be a DataFrame\n",
    "sex_age_df = sex_age_series.unstack()\n",
    "sex_age_df"
   ]
  },
  {
   "cell_type": "code",
   "execution_count": 79,
   "id": "3593a6e9-001b-4bf1-ac8d-15b1dc49e355",
   "metadata": {
    "slideshow": {
     "slide_type": "subslide"
    },
    "tags": []
   },
   "outputs": [
    {
     "data": {
      "image/png": "[encoded data removed]",
      "text/plain": [
       "<Figure size 500x300 with 1 Axes>"
      ]
     },
     "metadata": {},
     "output_type": "display_data"
    }
   ],
   "source": [
    "# Plot the bar graph, indicating that it should be stacked\n",
    "sex_age_df.plot.bar(\n",
    "    stacked=True,\n",
    "    title=\"Stacked Bar Chart of Age by Sex\",\n",
    "    xlabel=\"Sex\",\n",
    "    legend=\"reverse\",\n",
    "    rot=0,\n",
    "    colormap=\"tab20\",\n",
    "    figsize=(5,3),\n",
    "    );"
   ]
  },
  {
   "cell_type": "markdown",
   "id": "3a1dd7a0-c612-40ca-8095-58e1007cd7b0",
   "metadata": {
    "slideshow": {
     "slide_type": "subslide"
    },
    "tags": []
   },
   "source": [
    "### Favorite Pizza Topping (as a Word Cloud)"
   ]
  },
  {
   "cell_type": "markdown",
   "id": "01df1ab2-59ed-4b7f-8de7-c3708784c0bd",
   "metadata": {
    "slideshow": {
     "slide_type": "skip"
    },
    "tags": []
   },
   "source": [
    "We will do one special kind of visualization (a wordcloud) with another library called `wordcloud`. \n",
    "\n",
    "If you don't have it installed, you can install it with the command `pip install wordcloud`. "
   ]
  },
  {
   "cell_type": "code",
   "execution_count": 48,
   "id": "f7fef15d-460b-4c15-ad0b-1e1407345892",
   "metadata": {
    "slideshow": {
     "slide_type": "fragment"
    },
    "tags": []
   },
   "outputs": [],
   "source": [
    "from wordcloud import WordCloud"
   ]
  },
  {
   "cell_type": "markdown",
   "id": "e12fadc0-5cc9-4a0f-bf9a-ae41f511ffe5",
   "metadata": {
    "slideshow": {
     "slide_type": "skip"
    },
    "tags": []
   },
   "source": [
    "We also need to use the `matplotlib` library to show the image. Pandas actually uses this library under the hood for all of the plots."
   ]
  },
  {
   "cell_type": "code",
   "execution_count": 49,
   "id": "3526fb00-6553-4646-8c99-9af831d83580",
   "metadata": {
    "slideshow": {
     "slide_type": "fragment"
    },
    "tags": []
   },
   "outputs": [],
   "source": [
    "import matplotlib.pyplot as plt"
   ]
  },
  {
   "cell_type": "code",
   "execution_count": 50,
   "id": "6b8dd596-c6bf-41b3-a7ec-0d071898ed67",
   "metadata": {
    "slideshow": {
     "slide_type": "fragment"
    },
    "tags": []
   },
   "outputs": [],
   "source": [
    "# We need a python dictionary of the value_counts\n",
    "words = df[\"favorite_topping_pre\"].value_counts().to_dict()\n",
    "\n",
    "# Make the wordcloud\n",
    "wordcloud = WordCloud(\n",
    "    background_color=\"white\"\n",
    "    ).generate_from_frequencies(words)"
   ]
  },
  {
   "cell_type": "code",
   "execution_count": 51,
   "id": "cec4805b-349e-4cdb-b49f-357c6ed51cda",
   "metadata": {
    "slideshow": {
     "slide_type": "subslide"
    },
    "tags": []
   },
   "outputs": [
    {
     "data": {
      "image/png": "[encoded data removed]",
      "text/plain": [
       "<Figure size 500x300 with 1 Axes>"
      ]
     },
     "metadata": {},
     "output_type": "display_data"
    }
   ],
   "source": [
    "# Use the matplotlib library to show the image\n",
    "plt.figure(figsize=(5,3))\n",
    "plt.imshow(wordcloud, interpolation='bilinear')\n",
    "plt.axis(\"off\")\n",
    "plt.show()"
   ]
  },
  {
   "cell_type": "markdown",
   "id": "6a19cc92-253e-4239-b877-26ba8433d1da",
   "metadata": {
    "slideshow": {
     "slide_type": "subslide"
    },
    "tags": []
   },
   "source": [
    "## Analysis 2: Pre vs. Post Data\n",
    "\n",
    "Let's see the difference between pre and post variables. "
   ]
  },
  {
   "cell_type": "markdown",
   "id": "fe214f7f-47a0-43ef-b328-d150b2817686",
   "metadata": {
    "slideshow": {
     "slide_type": "subslide"
    },
    "tags": []
   },
   "source": [
    "### Comparing Pre-Post Scores (Box Plot)\n",
    "\n",
    "Let's see if how the participants faired with the test by using a box plot to visually compare the test scores."
   ]
  },
  {
   "cell_type": "code",
   "execution_count": 52,
   "id": "390a7791-b7f9-4dfd-bc41-1ccfd3102824",
   "metadata": {
    "slideshow": {
     "slide_type": "fragment"
    },
    "tags": []
   },
   "outputs": [],
   "source": [
    "# First we'll select and multiply the score columns\n",
    "# (They are in float / percent format)\n",
    "scores = df[[\"score_pre\", \"score_post\"]] * 100\n",
    "\n",
    "# We'll also rename the columns\n",
    "scores.columns = [\"Pre-Test Scores\", \"Post-Test Scores\"]"
   ]
  },
  {
   "cell_type": "code",
   "execution_count": 78,
   "id": "f0ed5449-ccb1-4b69-a6a3-3c8b48778cd3",
   "metadata": {
    "slideshow": {
     "slide_type": "subslide"
    },
    "tags": []
   },
   "outputs": [
    {
     "data": {
      "image/png": "[encoded data removed]",
      "text/plain": [
       "<Figure size 500x300 with 1 Axes>"
      ]
     },
     "metadata": {},
     "output_type": "display_data"
    }
   ],
   "source": [
    "# Make a box plot\n",
    "scores.plot.box(\n",
    "    title=\"Pre/Post Score Box Plot Comparison\",\n",
    "    ylabel=\"Score (Percent)\",\n",
    "    figsize=(5,3)\n",
    ");"
   ]
  },
  {
   "cell_type": "markdown",
   "id": "1a5e0d6d-ddbf-4b1d-8a86-e2d86b0e268e",
   "metadata": {
    "slideshow": {
     "slide_type": "subslide"
    },
    "tags": []
   },
   "source": [
    "###  Motivation and Confidence Pre/Post Comparison (Box Plots)"
   ]
  },
  {
   "cell_type": "markdown",
   "id": "cf7f26e7-67a8-4420-a322-6564a259216a",
   "metadata": {
    "slideshow": {
     "slide_type": "skip"
    },
    "tags": []
   },
   "source": [
    "Next, let's see if there was an affect on the motivation and confidence of participants after exposure to the pizza material. The process is the same as the above."
   ]
  },
  {
   "cell_type": "code",
   "execution_count": 54,
   "id": "57e7dfe7-960c-4e67-b23c-25b8feae0404",
   "metadata": {
    "slideshow": {
     "slide_type": "fragment"
    },
    "tags": []
   },
   "outputs": [],
   "source": [
    "# Select the columns we want to use\n",
    "mot_conf_df = df[[\n",
    "     \"motivation_pre\",\n",
    "     \"motivation_post\",\n",
    "     \"confidence_pre\",\n",
    "     \"confidence_post\"\n",
    "    ]]\n",
    "\n",
    "# Rename the columns\n",
    "mot_conf_df.columns = [\n",
    "    \"Motivation (Pre)\", \n",
    "    \"Motivation (Post)\", \n",
    "    \"Confidence (Pre)\", \n",
    "    \"Confidence (Post)\"\n",
    "]"
   ]
  },
  {
   "cell_type": "code",
   "execution_count": 77,
   "id": "51e5dca3-5391-460b-bd8b-c72844bc2505",
   "metadata": {
    "slideshow": {
     "slide_type": "subslide"
    },
    "tags": []
   },
   "outputs": [
    {
     "data": {
      "image/png": "[encoded data removed]",
      "text/plain": [
       "<Figure size 700x300 with 1 Axes>"
      ]
     },
     "metadata": {},
     "output_type": "display_data"
    }
   ],
   "source": [
    "# Plot it with a title and specify the y ticks\n",
    "mot_conf_df.plot.box(\n",
    "    title=\"Motivation and Confidence Pre/Post Comparison\",\n",
    "    yticks=[1,2,3,4,5],\n",
    "    figsize=(7,3)\n",
    ");"
   ]
  },
  {
   "cell_type": "markdown",
   "id": "c1531b2c-a73a-4e2c-a5b7-73e1811b441e",
   "metadata": {
    "slideshow": {
     "slide_type": "subslide"
    },
    "tags": []
   },
   "source": [
    "## Analysis 3: Number of Hours Correlated with Motivation"
   ]
  },
  {
   "cell_type": "markdown",
   "id": "b3e05b35-569c-4004-b4e0-7598abbde2a0",
   "metadata": {
    "slideshow": {
     "slide_type": "skip"
    },
    "tags": []
   },
   "source": [
    "We could see that there was some affect that the pizza material had on the participants. Let's visualize the correlation between the hours spent on the pizza material and the impact on motivation. \n",
    "\n",
    "First we'll make a new column indicating the change of motivation change.\n",
    "\n",
    "Then we'll make a scatterplot where `x` and `y` are the dataframe columns to use."
   ]
  },
  {
   "cell_type": "code",
   "execution_count": 73,
   "id": "45c23ea4-47f7-487e-8d89-b1fa1cb31001",
   "metadata": {
    "slideshow": {
     "slide_type": "fragment"
    },
    "tags": []
   },
   "outputs": [],
   "source": [
    "df[\"motivation_change\"] = df[\"motivation_post\"] - df[\"motivation_pre\"]"
   ]
  },
  {
   "cell_type": "code",
   "execution_count": 76,
   "id": "3b2a49ce-fb33-4932-ab0d-b8b1d9bd46bd",
   "metadata": {
    "slideshow": {
     "slide_type": "subslide"
    },
    "tags": []
   },
   "outputs": [
    {
     "data": {
      "image/png": "[encoded data removed]",
      "text/plain": [
       "<Figure size 500x300 with 1 Axes>"
      ]
     },
     "metadata": {},
     "output_type": "display_data"
    }
   ],
   "source": [
    "df.plot.scatter(\n",
    "    x=\"hrs_pzmat\",\n",
    "    y=\"motivation_change\",\n",
    "    title=\"Hours Spent on Material Correlated to Change in Motivation\",\n",
    "    xlabel=\"Hours Spent on Material\",\n",
    "    ylabel=\"Change in Motivation\",\n",
    "    figsize=(5,3),\n",
    ");"
   ]
  },
  {
   "cell_type": "markdown",
   "id": "f2996ea7-f614-485a-8c6e-a176e17f52af",
   "metadata": {
    "slideshow": {
     "slide_type": "subslide"
    },
    "tags": []
   },
   "source": [
    "## Analysis 4: Post-Favorite Pizza Topping"
   ]
  },
  {
   "cell_type": "markdown",
   "id": "8689c984-7a28-48ec-8f36-c856b994c6c7",
   "metadata": {
    "slideshow": {
     "slide_type": "skip"
    },
    "tags": []
   },
   "source": [
    "The best indication that the pizza material was successful is found by analyzing the participants' favorite pizza topping after they had exposure to the material. We can generate a wordcloud again. This is the best way, very scientific."
   ]
  },
  {
   "cell_type": "code",
   "execution_count": 58,
   "id": "70167a9d-43a9-41db-aafb-3ff8849fae46",
   "metadata": {
    "slideshow": {
     "slide_type": "fragment"
    },
    "tags": []
   },
   "outputs": [],
   "source": [
    "# We need a python dictionary of the value_counts\n",
    "words = df[\"favorite_topping_post\"].value_counts().to_dict()\n",
    "\n",
    "# Make the wordcloud\n",
    "wordcloud = WordCloud(\n",
    "    background_color=\"white\"\n",
    ").generate_from_frequencies(words)"
   ]
  },
  {
   "cell_type": "code",
   "execution_count": 59,
   "id": "945e4ac5-8650-4bf2-bd17-2565c5d07eb6",
   "metadata": {
    "slideshow": {
     "slide_type": "subslide"
    },
    "tags": []
   },
   "outputs": [
    {
     "data": {
      "image/png": "[encoded data removed]",
      "text/plain": [
       "<Figure size 500x300 with 1 Axes>"
      ]
     },
     "metadata": {},
     "output_type": "display_data"
    }
   ],
   "source": [
    "# Use the matplotlib library to show the image\n",
    "plt.figure(figsize=(5,3))\n",
    "plt.imshow(wordcloud, interpolation='bilinear')\n",
    "plt.axis(\"off\")\n",
    "plt.show()"
   ]
  },
  {
   "cell_type": "markdown",
   "id": "f990ef9b-d260-4781-9ded-47afb9f13f52",
   "metadata": {
    "slideshow": {
     "slide_type": "skip"
    },
    "tags": []
   },
   "source": [
    "## Research Conclusion"
   ]
  },
  {
   "cell_type": "markdown",
   "id": "e51d8567-8408-42f2-94bf-53a6580cf378",
   "metadata": {
    "slideshow": {
     "slide_type": "skip"
    },
    "tags": []
   },
   "source": [
    "100% of participants indicated that Pineapple was their favorite topping post-material exposure. Therefore treatment of pizza material was 100% effective."
   ]
  },
  {
   "cell_type": "markdown",
   "id": "ee9dea23-3401-46b5-bfb5-018db0ea9d65",
   "metadata": {
    "jp-MarkdownHeadingCollapsed": true,
    "slideshow": {
     "slide_type": "skip"
    },
    "tags": []
   },
   "source": [
    "# Resources\n",
    "\n",
    "There are a large number of resources here and a massive number of resources online. Most of the resources below are free to access. \n",
    "\n",
    "Remember this: one of the greatest resources is the **documentation**.\n",
    "\n",
    "## Try it out!\n",
    "\n",
    "If you would like to try out Jupyter in the browser without the need to install anything on your computer, you can get started with these websites:\n",
    "\n",
    "- [JupyterLite](https://jupyterlite.github.io/demo/lab/index.html) - Try a lite version of Jupyter Notebook in your browser.\n",
    "- [Google Colab](https://colab.research.google.com/) - Colab, or \"Colaboratory\", allows you to write and execute Python in your browser, with zero configuration required, access to GPUs free of charge, easy sharing.\n",
    "\n",
    "\n",
    "## Installation\n",
    "\n",
    "It's not possible to write down the steps to installation here for your specific machine. Please see documentation and/or check online for installation steps if you get stuck. Here are some general links:\n",
    "\n",
    "- [Installing Python](https://www.python.org/downloads/)\n",
    "- [Installing Pandas](https://pandas.pydata.org/pandas-docs/stable/getting_started/install.html)\n",
    "- [Installing Jupyter Lab (Notebook)](https://jupyter.org/install)\n",
    "- Rather than trying to manage installing many tools separately, you could use [Anaconda](https://www.anaconda.com/download)\n",
    "\n",
    "\n",
    "\n",
    "## Learning\n",
    "\n",
    "There are a lot of amazing resources to help you learn python and pandas and some related tools. Here are some things to get you started, in no particular order:\n",
    "\n",
    "- [100 Days of Code: The Complete Python Pro Bootcamp for 2023 (Udemy - Dr. Angela Yu)](https://www.udemy.com/course/100-days-of-code/) - 100 Days, 1 hour per day, learn to build 1 project per day. At 60+ hours of content, this Python course is an extremely comprehensive Python course. Even if you have zero programming experience, this course will help you be a proficient Python programmer. You will build projects like a Pong Game, Auto Swipe on Tinder, Analyze Lego Datasets, and more.\n",
    "- [Python for Everybody (Dr. Charles Severance)](https://www.py4e.com/) - A course based on the book, \"Python for Everybody\", by University of Michigan's Dr. Charles Severance. The book has been turned into a free course on various platforms like Coursera, EdX, and FreeCodeCamp with videos made by Dr. Severance himself. It covers the fundamentals of Python programming, web development, data visualization, and basic data analysis with Python. \n",
    "- [Python Beginners Guide (for those with experience programming)](https://wiki.python.org/moin/BeginnersGuide/Programmers) - Big list of resources, tutorials, and courses.\n",
    "- [Python Beginners Guide (no programming experience)](https://wiki.python.org/moin/BeginnersGuide/NonProgrammers) - Big list of resources, tutorials, books, and etc.\n",
    "- The official [Python Tutorial](https://docs.python.org/3/tutorial/index.html) - A must.\n",
    "- [Pandas Getting Started Tutorials](https://pandas.pydata.org/pandas-docs/stable/getting_started/intro_tutorials/index.html)\n",
    "- [Scientific Computing with Python Certification](https://www.freecodecamp.org/learn/scientific-computing-with-python/) - Free Certificate course from FreeCodeCamp\n",
    "- [Data Analysis with Python Certification](https://www.freecodecamp.org/learn/data-analysis-with-python/) - Free certificate course from FreeCodeCamp\n",
    "- [10 Minutes to Pandas](https://pandas.pydata.org/pandas-docs/stable/user_guide/10min.html)\n",
    "- [Visual Guide to Pandas](https://betterprogramming.pub/pandas-illustrated-the-definitive-visual-guide-to-pandas-c31fa921a43)\n",
    "- [Pandas CheatSheet](https://pandas.pydata.org/Pandas_Cheat_Sheet.pdf)\n",
    "- [Pandas Exercises](https://github.com/guipsamora/pandas_exercises) - A repository with jupyter notebooks to practice data analysis skills using pandas.\n",
    "- [PythonData](https://github.com/yunuserbas/PythonData) - This is the Data Analysis Repository using Python to practice data coding, cleaning, manipulation, and visualization, including python libraries such as Numpy, Pandas, Matplotlib, and Seaborn.\n",
    "- [Matplotlib Tutorials](https://matplotlib.org/stable/tutorials/index.html) - Some tutorials and guides for matplotlib.\n",
    "- [Think Stats 2nd Edition](https://greenteapress.com/wp/think-stats-2e/) - an introduction to Probability and Statistics for Python programmers. (Has a free PDF)\n",
    "- [Data Analysis with Python 3rd Edition](https://wesmckinney.com/book/) - Great resource you can read online for free.\n",
    "- [Learn Python with Jypyter](https://learnpythonwithjupyter.com/assets/book/learn_python_with_jupyter.pdf) (Free PDF Book)\n",
    "- [datawars.io](https://www.datawars.io) - Practice Data Science with Real Life Projects\n",
    "- [Markdown Guide](https://www.markdownguide.org) - Learn how to write in markdown (this simple syntax is used in Jupyter Notebook 'Markdown' cells). It's not a must, but incredibly useful!\n",
    "- [The Ultimate Markdown Guide for Jupyter Notebook](https://medium.com/analytics-vidhya/the-ultimate-markdown-guide-for-jupyter-notebook-d5e5abf728fd) - Jupyter Notebooks have a lot more than standard markdown. This shows you what is possible.\n",
    "\n",
    "## More Resources\n",
    "\n",
    "Some people work hard at curating awesome resources - here are some of those collections:\n",
    "\n",
    "- [Awesome Python](https://github.com/vinta/awesome-python) - A curated list of awesome Python frameworks, libraries, software and resources\n",
    "- [Awesome Pandas](https://github.com/tommyod/awesome-pandas) - A collection of resources for pandas and related subjects\n",
    "- [Awesome Jupyter](https://github.com/markusschanta/awesome-jupyter) - A curated list of resources related to Jupyter Notebooks\n",
    "- [Python Graph Gallery](https://python-graph-gallery.com) - **GREAT** resource to see code example for all kinds of graphs\n",
    "- [Python Cheatsheet](https://gto76.github.io/python-cheatsheet/)\n",
    "\n",
    "\n",
    "## Related Libraries for Data Analysis and Visualization\n",
    "\n",
    "If you want to take your data analysis game to the next level, be sure to check out some of these:\n",
    "\n",
    "- [seaborn](https://seaborn.pydata.org) - a Python data visualization library based on matplotlib. It provides a high-level interface for drawing attractive and informative statistical graphics.\n",
    "- [polars](https://www.pola.rs) - Lightning-fast DataFrame library for Rust and Python (alternative to Pandas)\n",
    "- [matplotlib](https://matplotlib.org/stable/) - Matplotlib is a comprehensive library for creating static, animated, and interactive visualizations.\n",
    "- [plotly](https://plotly.com/python/) - make interactive, publication-quality graphs\n",
    "- [bokeh](https://bokeh.org) - a Python library for creating interactive visualizations for modern web browsers\n",
    "\n",
    "\n",
    "## Publishing Jupyter Notebooks\n",
    "\n",
    "- [quarto](https://quarto.org/) - An open-source scientific and technical publishing system. Publish reproducible, production quality articles, presentations, websites, blogs, and books in HTML, PDF, MS Word, ePub, and more. \n",
    "- [Jupyter Book](https://jupyterbook.org/en/stable/intro.html) - Build beautiful, publication-quality books and documents from computational content. (This is part of the Executable Books project found at https://executablebooks.org/en/latest/)\n",
    "\n",
    "\n",
    "## Create Dashboards or Webapps\n",
    "\n",
    "- [Voilà](https://voila.readthedocs.io/en/stable/) - Voilà turns Jupyter notebooks into standalone web applications.\n",
    "- [Mercury](https://runmercury.com) - Turn your Python Notebook into a Web App with the open-source Mercury framework. Share your results with non-technical users.\n",
    "- [streamlit](https://streamlit.io) - Streamlit turns data scripts into shareable web apps in minutes. All in pure Python. No front‑end experience required.\n",
    "- [pygwalker](https://docs.kanaries.net/pygwalker) - PyGWalker (opens in a new tab) can simplify your Jupyter Notebook data analysis and data visualization workflow, by turning your pandas dataframe (and polars dataframe) into a Tableau-style User Interface for visual exploration."
   ]
  },
  {
   "cell_type": "markdown",
   "id": "1cb625a9-b2c4-40ae-9127-e946e792a58b",
   "metadata": {
    "slideshow": {
     "slide_type": "skip"
    },
    "tags": []
   },
   "source": [
    "# Appendix 1: A Pie Chart"
   ]
  },
  {
   "cell_type": "markdown",
   "id": "6cb87001-0701-4248-9089-ca8491681f5d",
   "metadata": {
    "slideshow": {
     "slide_type": "skip"
    },
    "tags": []
   },
   "source": [
    "We can make more customized charts and graphs by using matplotlib. Here's an example of the age distribution of participants as a donut chart."
   ]
  },
  {
   "cell_type": "code",
   "execution_count": 60,
   "id": "e41c3b88-c27e-4cb4-83f4-136b5ef91150",
   "metadata": {
    "slideshow": {
     "slide_type": "skip"
    },
    "tags": []
   },
   "outputs": [
    {
     "data": {
      "image/png": "[encoded data removed]",
      "text/plain": [
       "<Figure size 640x480 with 1 Axes>"
      ]
     },
     "metadata": {},
     "output_type": "display_data"
    }
   ],
   "source": [
    "# This requires using matplotlib\n",
    "import matplotlib.pyplot as plt\n",
    "\n",
    "# First, we'll get the value counts for the \"Age\" column\n",
    "age_groups = df[\"Age\"].value_counts()\n",
    "\n",
    "# This line initializes a new figure (fig) and an associated axes object (ax) for creating a plot in Matplotlib.\n",
    "# The figure represents the entire graphical window or canvas\n",
    "# The axes object represents a specific subplot.\n",
    "fig, ax = plt.subplots()\n",
    "\n",
    "# Make a pie chart on the axis\n",
    "ax.pie(age_groups, autopct='%1.1f%%', startangle=90, pctdistance=0.75, labels=age_groups.index, wedgeprops={'width':0.5})\n",
    "\n",
    "# Equal aspect ratio ensures that pie chart is drawn as a circle.\n",
    "ax.axis('equal')\n",
    "\n",
    "# Add title\n",
    "plt.title('Age Distribution of Participants')\n",
    "\n",
    "# Show it\n",
    "plt.show()"
   ]
  },
  {
   "cell_type": "markdown",
   "id": "30b8b3fb-76e5-4102-baf3-c1bf3e2a103d",
   "metadata": {
    "slideshow": {
     "slide_type": "skip"
    },
    "tags": []
   },
   "source": [
    "That's okay, but maybe we want a more customized version. Matplotlib can do a huge number of things. Here's a more difficult example of a donut chart like the one above:"
   ]
  },
  {
   "cell_type": "code",
   "execution_count": 61,
   "id": "b2776ad7-8038-449f-aaf3-40dac62aa484",
   "metadata": {
    "slideshow": {
     "slide_type": "skip"
    },
    "tags": []
   },
   "outputs": [
    {
     "data": {
      "image/png": "[encoded data removed]",
      "text/plain": [
       "<Figure size 1000x500 with 1 Axes>"
      ]
     },
     "metadata": {},
     "output_type": "display_data"
    }
   ],
   "source": [
    "import numpy as np\n",
    "import matplotlib.pyplot as plt\n",
    "\n",
    "# Make a figure and axes\n",
    "fig, ax = plt.subplots(figsize=(10, 5), subplot_kw=dict(aspect=\"equal\"))\n",
    "\n",
    "# Arrange the data - value counts for the age\n",
    "age_value_counts = df[\"Age\"].value_counts()\n",
    "age_tuples = [i for i in age_value_counts.items()]\n",
    "data = age_value_counts.values\n",
    "total_values = len(df)\n",
    "\n",
    "# Do the initial donut (there will be no labels)\n",
    "wedges, texts = ax.pie(\n",
    "    data,\n",
    "    wedgeprops=dict(width=0.4),\n",
    "    startangle=-40,\n",
    "    colors=['#FF5733', '#3498DB', '#2ECC71', '#9B59B6', '#F1C40F'],\n",
    "    )\n",
    "\n",
    "# Set up the styling for the labels\n",
    "bbox_props = dict(boxstyle=\"square, pad=0.5\", fc=\"w\", ec=\"k\", lw=0.5)\n",
    "kw = dict(arrowprops=dict(arrowstyle=\"-\"),\n",
    "          bbox=bbox_props, zorder=0, va=\"center\")\n",
    "\n",
    "def make_label(idx):\n",
    "    # returns a string label for the index provided\n",
    "    age, count = age_tuples[idx]\n",
    "    percent = (count / total_values) * 100\n",
    "    return f\"{age} ({percent:.2f}%)\"\n",
    "\n",
    "# Iterate through the wedges of the donut\n",
    "# Do some calculations to set a line from the donut to the label\n",
    "# then annotate with a label\n",
    "for i, p in enumerate(wedges):\n",
    "    ang = (p.theta2 - p.theta1)/2. + p.theta1\n",
    "    y = np.sin(np.deg2rad(ang))\n",
    "    x = np.cos(np.deg2rad(ang))\n",
    "    horizontalalignment = {-1: \"right\", 1: \"left\"}[int(np.sign(x))]\n",
    "    connectionstyle = f\"angle,angleA=0,angleB={ang}\"\n",
    "    kw[\"arrowprops\"].update({\"connectionstyle\": connectionstyle})\n",
    "    ax.annotate(make_label(i), xy=(x, y), xytext=(1.35*np.sign(x), 1.4*y),\n",
    "                horizontalalignment=horizontalalignment, **kw)\n",
    "\n",
    "# Set a title\n",
    "ax.set_title(\"Age Distribution of Participants\")\n",
    "\n",
    "# Show the result\n",
    "plt.show()"
   ]
  },
  {
   "cell_type": "markdown",
   "id": "118a50db-4fe7-4877-a57d-984aeea6d7e8",
   "metadata": {
    "slideshow": {
     "slide_type": "skip"
    },
    "tags": []
   },
   "source": [
    "# Appendix 2: Testing\n",
    "\n",
    "One of the benefits of using a programming language to wrangle and analyze your dataset is that you can create tests in order to ensure that your data has the expected values.\n",
    "\n",
    "Imagine some of the following scenarios:\n",
    "    \n",
    "1. You collaborate with several other Professors and you need a way to combine all of the data and then verify that it is both uniform and within the parameters.\n",
    "2. You set up your data cleaning code *before* you receive datasets from collaboraters. Testing that your cleaning code matches certain parameters will ensure the quality of your overall dataset.\n",
    "2. You have provided participants with a form that requires them to write something. Manual input can result in a great number of inconsistencies and errors.\n",
    "3. You have a huge amount of data. Browsing through it to ensure that values are within certain parameters is prone to error.\n",
    "\n",
    "Python has an `assert` keyword that checks if something is **True** or **False**. If it is **True** the check passes. **False** will actually result in the program giving an error. Within a normal script the script would exit with an error. Within a Jupyter notebook you will see error output.\n",
    "\n",
    "We can use `assert` to ensure that our datasets have values that fit within certain parameters.\n",
    "\n",
    "Let's see an example of how to apply a test to a DataFrame column.\n",
    "\n",
    "First we will make a mask. The hours spent on pizza material should be between 0 and 50, so the mask will be the inversion of that. We want to see anything in the DataFrame that has less than 0 OR more than 50 hours. Note that the pipe character `|` means OR."
   ]
  },
  {
   "cell_type": "code",
   "execution_count": 62,
   "id": "5facfe5e-0d90-4887-868f-c88dc33a590a",
   "metadata": {
    "slideshow": {
     "slide_type": "skip"
    },
    "tags": []
   },
   "outputs": [],
   "source": [
    "mask = (df[\"hrs_pzmat\"] < 0) | (df[\"hrs_pzmat\"] > 50)"
   ]
  },
  {
   "cell_type": "markdown",
   "id": "a7410a81-f586-4d39-b397-31b1ebf31857",
   "metadata": {
    "slideshow": {
     "slide_type": "skip"
    },
    "tags": []
   },
   "source": [
    "If we apply this mask to our DataFrame we can check the length using `len()` function. The length of the DataFrame is how many rows it has."
   ]
  },
  {
   "cell_type": "code",
   "execution_count": 63,
   "id": "a5adbd84-5fde-4060-97c8-61cbae62d168",
   "metadata": {
    "slideshow": {
     "slide_type": "skip"
    },
    "tags": []
   },
   "outputs": [],
   "source": [
    "out_of_range = len(df[mask])"
   ]
  },
  {
   "cell_type": "markdown",
   "id": "b77ae9a8-94e3-43e1-87aa-0ddf3856bdbd",
   "metadata": {
    "slideshow": {
     "slide_type": "skip"
    },
    "tags": []
   },
   "source": [
    "Now we assert that there are no rows out of range. Notice that we can provide a custom message that would be printed out if the assertion doesn't pass. If the assertion is `True`, nothing will actually happen and that is desired."
   ]
  },
  {
   "cell_type": "code",
   "execution_count": 64,
   "id": "b55474b6-cb95-4c75-b50f-0e938325d5ae",
   "metadata": {
    "slideshow": {
     "slide_type": "skip"
    },
    "tags": []
   },
   "outputs": [],
   "source": [
    "assert out_of_range == 0, \"There are values in 'hrs_pzmat' that are out of range\""
   ]
  },
  {
   "cell_type": "code",
   "execution_count": 65,
   "id": "cf20c37e-6bb4-4ec7-a7fe-7e054773f1f6",
   "metadata": {
    "slideshow": {
     "slide_type": "skip"
    },
    "tags": []
   },
   "outputs": [],
   "source": [
    "#This could be done with one line of code:\n",
    "    \n",
    "assert len(df[(df[\"hrs_pzmat\"] < 0) | (df[\"hrs_pzmat\"] > 50)]) == 0, \"There are values in 'hrs_pzmat' that are out of range\""
   ]
  },
  {
   "cell_type": "markdown",
   "id": "ee2b3690-8693-481a-aebf-be8b2488d2ed",
   "metadata": {
    "slideshow": {
     "slide_type": "skip"
    },
    "tags": []
   },
   "source": [
    "An interesting practical application of this kind of testing would be to write a function that tests for certain parameters. If the function was defined at the beginning of your notebook you could then use it throughout the notebook to test your progress as you wrangle data.\n",
    "\n",
    "Here's an example:"
   ]
  },
  {
   "cell_type": "code",
   "execution_count": 66,
   "id": "1db76b1e-3165-46b0-89cf-6616701515d2",
   "metadata": {
    "slideshow": {
     "slide_type": "skip"
    },
    "tags": []
   },
   "outputs": [],
   "source": [
    "def run_tests(df):\n",
    "    assert len(df[(df[\"hrs_pzmat\"] < 0) | (df[\"hrs_pzmat\"] > 50)]) == 0, \"There are values in 'hrs_pzmat' that are out of range\"\n",
    "    # other tests\n",
    "    \n",
    "run_tests(df)"
   ]
  },
  {
   "cell_type": "markdown",
   "id": "997fd8de-5ce5-40ee-a396-81f5549c40c5",
   "metadata": {
    "slideshow": {
     "slide_type": "skip"
    },
    "tags": []
   },
   "source": [
    "# Appendix 3: Saving a Figure (plot) to File\n",
    "\n",
    "To save a figure to file, there are few steps needed. One thing that is required is matplotlib's `pyplot` module. Usually people use an alias of `plt` for it:"
   ]
  },
  {
   "cell_type": "code",
   "execution_count": 67,
   "id": "8e93ebd5-42fb-458b-84ad-e3c4f1654aa3",
   "metadata": {
    "slideshow": {
     "slide_type": "skip"
    },
    "tags": []
   },
   "outputs": [],
   "source": [
    "import matplotlib.pyplot as plt"
   ]
  },
  {
   "cell_type": "markdown",
   "id": "8ed8aeb2-3b04-4e31-b0c5-9be627dac659",
   "metadata": {
    "slideshow": {
     "slide_type": "skip"
    },
    "tags": []
   },
   "source": [
    "<div class=\"alert alert-block alert-warning\">\n",
    "    <b>Note:</b> If you are making a notebook, it's best to include <i>all</i> imports at the start of the notebook.\n",
    "</div>"
   ]
  },
  {
   "cell_type": "markdown",
   "id": "f8cc3931-95cc-4ffa-8856-59b9b792e5ec",
   "metadata": {
    "slideshow": {
     "slide_type": "skip"
    },
    "tags": []
   },
   "source": [
    "Next, we will need to make a `figure` and `axes` and assign them to variables. This will result in an empty figure. \n",
    "\n",
    "The behavior of `plt` is slightly different than what you might expect. After we make the figure and axes and then call `plt.show()` we can't use this same figure in another cell. So it's best to do this in one cell.\n",
    "\n",
    "When we use the `plot()` method(s) in pandas, we can specify the axes to plot it to.\n",
    "\n",
    "At the end we will save the figure with the `savefig()` method which requires a file name:"
   ]
  },
  {
   "cell_type": "code",
   "execution_count": 68,
   "id": "20cb352d-6658-486d-ab41-24e0d170b8db",
   "metadata": {
    "slideshow": {
     "slide_type": "skip"
    },
    "tags": []
   },
   "outputs": [
    {
     "data": {
      "image/png": "[encoded data removed]",
      "text/plain": [
       "<Figure size 640x480 with 1 Axes>"
      ]
     },
     "metadata": {},
     "output_type": "display_data"
    }
   ],
   "source": [
    "# Make a figure and axes\n",
    "fig, ax = plt.subplots()\n",
    "\n",
    "# plot the scores\n",
    "df[\"score_pre\"].plot.hist(\n",
    "    ax=ax, \n",
    "    title=\"Pre-Material Score Distribution (as Percent)\", \n",
    "    )\n",
    "\n",
    "# Save the figure\n",
    "# This will also show it in the notebook\n",
    "# The filename we will use is figure01.png\n",
    "# This will be saved in the current directory\n",
    "plt.savefig(\"figure01.png\")"
   ]
  },
  {
   "cell_type": "markdown",
   "id": "07b69dcf-8e7a-4ecc-9dba-0f3dca9a0317",
   "metadata": {
    "slideshow": {
     "slide_type": "skip"
    },
    "tags": []
   },
   "source": [
    "The default format for `savefig()` is **png** regardless of what filename you use. See the [savefig documentation](https://matplotlib.org/stable/api/_as_gen/matplotlib.pyplot.savefig.html) for more options."
   ]
  },
  {
   "cell_type": "markdown",
   "id": "82563a08-6c5b-4a99-bc76-2e7a36e5e1bb",
   "metadata": {
    "slideshow": {
     "slide_type": "skip"
    },
    "tags": []
   },
   "source": [
    "# Appendix 4: Customizing a Figure\n",
    "\n",
    "You may want to customize a figure in some ways. Let's first make a simple bar graph that compares the mean hours spent on pizza material between males and females:"
   ]
  },
  {
   "cell_type": "code",
   "execution_count": 69,
   "id": "d99c3a84-67cd-4ea0-92ad-e318a5175517",
   "metadata": {
    "slideshow": {
     "slide_type": "skip"
    },
    "tags": []
   },
   "outputs": [
    {
     "data": {
      "text/plain": [
       "<AxesSubplot: xlabel='Sex'>"
      ]
     },
     "execution_count": 69,
     "metadata": {},
     "output_type": "execute_result"
    },
    {
     "data": {
      "image/png": "[encoded data removed]",
      "text/plain": [
       "<Figure size 640x480 with 1 Axes>"
      ]
     },
     "metadata": {},
     "output_type": "display_data"
    }
   ],
   "source": [
    "df.groupby(\"Sex\")[\"hrs_pzmat\"].mean().plot.bar()"
   ]
  },
  {
   "cell_type": "markdown",
   "id": "627728da-857c-4b34-9092-d511ac0f69d7",
   "metadata": {
    "slideshow": {
     "slide_type": "skip"
    },
    "tags": []
   },
   "source": [
    "Great! But, it's somewhat difficult to make out what the actual numbers are. It would be great to have some labels. It may also be useful to have a line indicating the overall average of hours spent on material. If we want to be really picky, the labels on the x-axis should be horizontal, and we really should use some different colors for the bars.\n",
    "\n",
    "Some of the customizations we want to apply can be done using only pandas, but going further requires using **matplotlib**, and specifically it's **pyplot** module. This is the library that pandas uses under the hood to generate figures.\n",
    "\n",
    "It may be helpful to imagine the above figure as a 2D canvas with a horizontal (x) and vertical (y) axis. To add something to the canvas, we would need to specify *where* it should go. A canvas with a size of 2x2 would have a center spot of x=1 and y=1.\n",
    "\n",
    "Now also consider that a figure has objects on it such as x and y axis labels, lines, and in the case of the above example, two bars. \n",
    "\n",
    "Why does that matter? **We are able to access the properties of all of the objects of the figure programatically.** For example, we can get the dimensions of the MALE bar in the above figure. We would need these if we want to add a label in the middle of that bar.\n",
    "\n",
    "The below code utilizes these kind of properties to customize the figure:"
   ]
  },
  {
   "cell_type": "code",
   "execution_count": 70,
   "id": "e7940d20-c629-4dbe-8889-e0edce6d926b",
   "metadata": {
    "slideshow": {
     "slide_type": "skip"
    },
    "tags": []
   },
   "outputs": [
    {
     "data": {
      "image/png": "[encoded data removed]",
      "text/plain": [
       "<Figure size 640x480 with 1 Axes>"
      ]
     },
     "metadata": {},
     "output_type": "display_data"
    }
   ],
   "source": [
    "# We need to use matplotlib.pyplot for this\n",
    "import matplotlib.pyplot as plt\n",
    "\n",
    "# Make a figure and axes\n",
    "fig, ax = plt.subplots()\n",
    "\n",
    "# Use some different colors for male/female\n",
    "colors = [\"#a855f7\", \"#3b82f6\"]\n",
    "\n",
    "# plot the bar graph and assign the axes to use\n",
    "title = \"Average Hours Spent on Pizza Material, Split by Sex\"\n",
    "df.groupby(\"Sex\")[\"hrs_pzmat\"].mean().plot.bar(\n",
    "    ax=ax,\n",
    "    title=title,\n",
    "    ylabel=\"Average Hours\",\n",
    "    color=colors,\n",
    "    rot=0,\n",
    "    )\n",
    "\n",
    "# Iterate through each bar (patch) and annotate it\n",
    "for patch in ax.patches:\n",
    "    \n",
    "    # Get the actual value for the bar\n",
    "    value = round(patch.get_height(), 2)\n",
    "    \n",
    "    # Get the x and y coordinates for the annotation\n",
    "    # based on the geometry of the bar\n",
    "    # we'll make them vertically aligned at 10\n",
    "    x_coord = patch.get_x() + patch.get_width() / 2\n",
    "    y_coord = 10\n",
    "    \n",
    "    # Apply an annotation\n",
    "    ax.annotate(\n",
    "        str(value),\n",
    "        (x_coord, y_coord),\n",
    "        ha=\"center\",\n",
    "        va=\"center\",\n",
    "        color=\"white\"\n",
    "    )\n",
    "\n",
    "# Add a horizontal line to the axes\n",
    "hrs_mean = df[\"hrs_pzmat\"].mean()\n",
    "ax.axhline(y=hrs_mean, color=\"#94a3b8\", linestyle=\"-\")\n",
    "\n",
    "# Add some text just above the hrs_mean line\n",
    "ax.text(\n",
    "    -0.45, hrs_mean + 0.3,\n",
    "    f\"Overall Average ({round(hrs_mean, 2)})\",\n",
    "    color=\"#334155\"\n",
    "    )\n",
    "\n",
    "# Show the figure\n",
    "plt.show()"
   ]
  }
 ],
 "metadata": {
  "kernelspec": {
   "display_name": "Python 3 (ipykernel)",
   "language": "python",
   "name": "python3"
  },
  "language_info": {
   "codemirror_mode": {
    "name": "ipython",
    "version": 3
   },
   "file_extension": ".py",
   "mimetype": "text/x-python",
   "name": "python",
   "nbconvert_exporter": "python",
   "pygments_lexer": "ipython3",
   "version": "3.11.0"
  },
  "toc-autonumbering": false,
  "toc-showmarkdowntxt": false
 },
 "nbformat": 4,
 "nbformat_minor": 5
}
